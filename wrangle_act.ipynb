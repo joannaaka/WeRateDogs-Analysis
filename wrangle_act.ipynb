{
 "cells": [
  {
   "cell_type": "markdown",
   "id": "9b4a8738",
   "metadata": {},
   "source": [
    "# Project: WE RATE DOGS "
   ]
  },
  {
   "cell_type": "markdown",
   "id": "0ef39f93",
   "metadata": {},
   "source": [
    "### Table of Contents\n",
    "\n",
    "* [Introduction](#introduction)\n",
    "    \n",
    "* [Data Wrangling](#Data_Wrangling)\n",
    "    * [Gathering](#Gathering)\n",
    "    * [Assessing](#Assessing)\n",
    "       * [Quality Issues](#Quality_issues)\n",
    "       * [Tidiness Issues](#Tidiness_issues)\n",
    "    * [Cleaning](#Cleaning)\n",
    "       \n",
    "* [Exploratory Data Analysis](#Exploratory_Analysis)\n",
    "    * [Analysis Question](#Analysis_Question)\n",
    "    * [Research Question 1](#Research_1)\n",
    "    * [Research Questtion 2](#Research_2)\n",
    "    \n",
    "* [Conclusion](#Conclusion)\n",
    "    \n",
    "    "
   ]
  },
  {
   "cell_type": "markdown",
   "id": "349c0822",
   "metadata": {},
   "source": [
    "## Introduction <a class= \"anchor\" id= \"Introduction\"></a>\n",
    "\n",
    "WeRateDogs is a Twitter account that rates people's dogs with a humorous comment about the dog. The account shares images of the dogs with a brief comment, then let their followers rate the dogs. These ratings almost always have a denominator of 10 with the numerator almost always above 10. For this project, WeRateDogs has downloaded their twitter archive, over 5000+ tweets which we'll be analysing. Also, Udacity ran every image in the WeRateDogs Twitter archive through a neural network that can classify breeds of dogs. Additional data from Twitter API including each tweet's retweet count and favourite(like) count.\n",
    "This project will including Wrangling acts and Analysing of the data.\n",
    "\n"
   ]
  },
  {
   "cell_type": "code",
   "execution_count": 1,
   "id": "b394dee1",
   "metadata": {},
   "outputs": [],
   "source": [
    " # Importing necessary libraries for this project\n",
    "import requests\n",
    "import os\n",
    "# import tweepy\n",
    "import pandas as pd\n",
    "#import time\n",
    "import json\n",
    "import numpy as np\n",
    "from datetime import datetime\n",
    "\n",
    " # Importing warnings to prevent warning messages\n",
    "\n",
    "import warnings\n",
    "warnings.filterwarnings(\"ignore\")\n",
    "\n",
    "# For text display\n",
    "from IPython.display import Markdown, display\n",
    "\n",
    " # Importing libraries for visualization\n",
    "    \n",
    "import matplotlib.pyplot as plt\n",
    "import seaborn as sns\n",
    "%matplotlib inline"
   ]
  },
  {
   "cell_type": "markdown",
   "id": "d5c119d2",
   "metadata": {},
   "source": [
    "## Data Wrangling <a class= \"anchor\" id= \"Data_Wrangling\"></a>\n",
    "\n",
    "Data wrangling is the process of converting and mapping raw data and getting it ready for analysis. Data wrangling include gathering data, removing errors and combining complex data sets to make them more accessible and easier to analyze."
   ]
  },
  {
   "cell_type": "markdown",
   "id": "f7082961",
   "metadata": {},
   "source": [
    "### Gathering <a class= \"anchor\" id= \"Gathering\"></a>\n",
    "\n",
    "In this project, the data gathering will be in two phases, first programmatically downloading the Udacity neural network classification and the additional data from twitter API. The second phase is importing this file with the WeRateDogs file - **_twitter-archive-enhanced.csv_** into the notebook. The twitter api will be read as a json file into the notebook.\n",
    "\n"
   ]
  },
  {
   "cell_type": "code",
   "execution_count": 2,
   "id": "e303e3f7",
   "metadata": {
    "scrolled": false
   },
   "outputs": [],
   "source": [
    "# DOWNLOADING NEUERAL CLASSIFICATION\n",
    "\n",
    "#url =  \"https://d17h27t6h515a5.cloudfront.net/topher/2017/August/599fd2ad_image-predictions/image-predictions.tsv\"\n",
    "\n",
    "# _getting response from the url_\n",
    "\n",
    "# response = requests.get(url)\n",
    "\n",
    "\n",
    "# _creating folder for neural classification_\n",
    "\n",
    "# folder_name = \"image_prediction.tsv\"\n",
    "\n",
    "# if not os.path.exists(folder_name):\n",
    "#    os.makedirs(folder_name)\n",
    "\n",
    "# _writing the response to the folder_    \n",
    "\n",
    "# with open(os.path.join(folder_name,url.split(\"/\")[-1]),mode = \"wb\") as file:\n",
    "#    file.write(response.content)"
   ]
  },
  {
   "cell_type": "code",
   "execution_count": 3,
   "id": "342936f3",
   "metadata": {
    "scrolled": true
   },
   "outputs": [],
   "source": [
    "# DOWNLOADING TWITTER API JSON \n",
    "\n",
    "# url1 = \"https://video.udacity-data.com/topher/2018/November/5be5fb7d_tweet-json/tweet-json.txt\"\n",
    "\n",
    "# getting response from the url\n",
    "\n",
    "# r1 = requests.get(url1)\n",
    "\n",
    "\n",
    "# creating folder \n",
    "\n",
    "# folder_name1 = \"twitter_json.txt\"\n",
    "\n",
    "# if not os.path.exists(folder_name1):\n",
    "  #  os.makedirs(folder_name1)\n",
    "# creating file in folder and writing response to it    \n",
    "\n",
    "# with open(os.path.join(folder_name1,url1.split(\"/\")[-1]),mode = \"wb\") as file:\n",
    "  #  file.write(r1.content)"
   ]
  },
  {
   "cell_type": "code",
   "execution_count": 4,
   "id": "3aec9ca6",
   "metadata": {},
   "outputs": [],
   "source": [
    "# ACCESSING TWITTER API\n",
    "\n",
    "# from tweepy import OAuthHandler\n",
    "\n",
    "# consumer_key = \"****\"\n",
    "# consumer_secret = \"****\"\n",
    "# access_token = \"****\"\n",
    "# access_secret = \"****\"\n",
    "\n",
    "# auth = OAuthHandler(consumer_key, consumer_secret)\n",
    "# auth.set_access_token(access_token, access_secret)\n",
    "# api = tweepy.API(auth, wait_on_rate_limit = True)"
   ]
  },
  {
   "cell_type": "code",
   "execution_count": 5,
   "id": "002a80bc",
   "metadata": {
    "scrolled": true
   },
   "outputs": [
    {
     "data": {
      "text/html": [
       "<div>\n",
       "<style scoped>\n",
       "    .dataframe tbody tr th:only-of-type {\n",
       "        vertical-align: middle;\n",
       "    }\n",
       "\n",
       "    .dataframe tbody tr th {\n",
       "        vertical-align: top;\n",
       "    }\n",
       "\n",
       "    .dataframe thead th {\n",
       "        text-align: right;\n",
       "    }\n",
       "</style>\n",
       "<table border=\"1\" class=\"dataframe\">\n",
       "  <thead>\n",
       "    <tr style=\"text-align: right;\">\n",
       "      <th></th>\n",
       "      <th>tweet_id</th>\n",
       "      <th>in_reply_to_status_id</th>\n",
       "      <th>in_reply_to_user_id</th>\n",
       "      <th>timestamp</th>\n",
       "      <th>source</th>\n",
       "      <th>text</th>\n",
       "      <th>retweeted_status_id</th>\n",
       "      <th>retweeted_status_user_id</th>\n",
       "      <th>retweeted_status_timestamp</th>\n",
       "      <th>expanded_urls</th>\n",
       "      <th>rating_numerator</th>\n",
       "      <th>rating_denominator</th>\n",
       "      <th>name</th>\n",
       "      <th>doggo</th>\n",
       "      <th>floofer</th>\n",
       "      <th>pupper</th>\n",
       "      <th>puppo</th>\n",
       "    </tr>\n",
       "  </thead>\n",
       "  <tbody>\n",
       "    <tr>\n",
       "      <th>0</th>\n",
       "      <td>892420643555336193</td>\n",
       "      <td>NaN</td>\n",
       "      <td>NaN</td>\n",
       "      <td>2017-08-01 16:23:56 +0000</td>\n",
       "      <td>&lt;a href=\"http://twitter.com/download/iphone\" r...</td>\n",
       "      <td>This is Phineas. He's a mystical boy. Only eve...</td>\n",
       "      <td>NaN</td>\n",
       "      <td>NaN</td>\n",
       "      <td>NaN</td>\n",
       "      <td>https://twitter.com/dog_rates/status/892420643...</td>\n",
       "      <td>13</td>\n",
       "      <td>10</td>\n",
       "      <td>Phineas</td>\n",
       "      <td>None</td>\n",
       "      <td>None</td>\n",
       "      <td>None</td>\n",
       "      <td>None</td>\n",
       "    </tr>\n",
       "  </tbody>\n",
       "</table>\n",
       "</div>"
      ],
      "text/plain": [
       "             tweet_id  in_reply_to_status_id  in_reply_to_user_id  \\\n",
       "0  892420643555336193                    NaN                  NaN   \n",
       "\n",
       "                   timestamp  \\\n",
       "0  2017-08-01 16:23:56 +0000   \n",
       "\n",
       "                                              source  \\\n",
       "0  <a href=\"http://twitter.com/download/iphone\" r...   \n",
       "\n",
       "                                                text  retweeted_status_id  \\\n",
       "0  This is Phineas. He's a mystical boy. Only eve...                  NaN   \n",
       "\n",
       "   retweeted_status_user_id retweeted_status_timestamp  \\\n",
       "0                       NaN                        NaN   \n",
       "\n",
       "                                       expanded_urls  rating_numerator  \\\n",
       "0  https://twitter.com/dog_rates/status/892420643...                13   \n",
       "\n",
       "   rating_denominator     name doggo floofer pupper puppo  \n",
       "0                  10  Phineas  None    None   None  None  "
      ]
     },
     "execution_count": 5,
     "metadata": {},
     "output_type": "execute_result"
    }
   ],
   "source": [
    " #  Twitter-archive\n",
    "\n",
    "tweet_archive = pd.read_csv(\"twitter-archive-enhanced.csv\")\n",
    "tweet_archive.head(1)"
   ]
  },
  {
   "cell_type": "code",
   "execution_count": 6,
   "id": "7c96576e",
   "metadata": {
    "scrolled": true
   },
   "outputs": [
    {
     "data": {
      "text/html": [
       "<div>\n",
       "<style scoped>\n",
       "    .dataframe tbody tr th:only-of-type {\n",
       "        vertical-align: middle;\n",
       "    }\n",
       "\n",
       "    .dataframe tbody tr th {\n",
       "        vertical-align: top;\n",
       "    }\n",
       "\n",
       "    .dataframe thead th {\n",
       "        text-align: right;\n",
       "    }\n",
       "</style>\n",
       "<table border=\"1\" class=\"dataframe\">\n",
       "  <thead>\n",
       "    <tr style=\"text-align: right;\">\n",
       "      <th></th>\n",
       "      <th>tweet_id</th>\n",
       "      <th>jpg_url</th>\n",
       "      <th>img_num</th>\n",
       "      <th>p1</th>\n",
       "      <th>p1_conf</th>\n",
       "      <th>p1_dog</th>\n",
       "      <th>p2</th>\n",
       "      <th>p2_conf</th>\n",
       "      <th>p2_dog</th>\n",
       "      <th>p3</th>\n",
       "      <th>p3_conf</th>\n",
       "      <th>p3_dog</th>\n",
       "    </tr>\n",
       "  </thead>\n",
       "  <tbody>\n",
       "    <tr>\n",
       "      <th>0</th>\n",
       "      <td>666020888022790149</td>\n",
       "      <td>https://pbs.twimg.com/media/CT4udn0WwAA0aMy.jpg</td>\n",
       "      <td>1</td>\n",
       "      <td>Welsh_springer_spaniel</td>\n",
       "      <td>0.465074</td>\n",
       "      <td>True</td>\n",
       "      <td>collie</td>\n",
       "      <td>0.156665</td>\n",
       "      <td>True</td>\n",
       "      <td>Shetland_sheepdog</td>\n",
       "      <td>0.061428</td>\n",
       "      <td>True</td>\n",
       "    </tr>\n",
       "    <tr>\n",
       "      <th>1</th>\n",
       "      <td>666029285002620928</td>\n",
       "      <td>https://pbs.twimg.com/media/CT42GRgUYAA5iDo.jpg</td>\n",
       "      <td>1</td>\n",
       "      <td>redbone</td>\n",
       "      <td>0.506826</td>\n",
       "      <td>True</td>\n",
       "      <td>miniature_pinscher</td>\n",
       "      <td>0.074192</td>\n",
       "      <td>True</td>\n",
       "      <td>Rhodesian_ridgeback</td>\n",
       "      <td>0.072010</td>\n",
       "      <td>True</td>\n",
       "    </tr>\n",
       "    <tr>\n",
       "      <th>2</th>\n",
       "      <td>666033412701032449</td>\n",
       "      <td>https://pbs.twimg.com/media/CT4521TWwAEvMyu.jpg</td>\n",
       "      <td>1</td>\n",
       "      <td>German_shepherd</td>\n",
       "      <td>0.596461</td>\n",
       "      <td>True</td>\n",
       "      <td>malinois</td>\n",
       "      <td>0.138584</td>\n",
       "      <td>True</td>\n",
       "      <td>bloodhound</td>\n",
       "      <td>0.116197</td>\n",
       "      <td>True</td>\n",
       "    </tr>\n",
       "    <tr>\n",
       "      <th>3</th>\n",
       "      <td>666044226329800704</td>\n",
       "      <td>https://pbs.twimg.com/media/CT5Dr8HUEAA-lEu.jpg</td>\n",
       "      <td>1</td>\n",
       "      <td>Rhodesian_ridgeback</td>\n",
       "      <td>0.408143</td>\n",
       "      <td>True</td>\n",
       "      <td>redbone</td>\n",
       "      <td>0.360687</td>\n",
       "      <td>True</td>\n",
       "      <td>miniature_pinscher</td>\n",
       "      <td>0.222752</td>\n",
       "      <td>True</td>\n",
       "    </tr>\n",
       "    <tr>\n",
       "      <th>4</th>\n",
       "      <td>666049248165822465</td>\n",
       "      <td>https://pbs.twimg.com/media/CT5IQmsXIAAKY4A.jpg</td>\n",
       "      <td>1</td>\n",
       "      <td>miniature_pinscher</td>\n",
       "      <td>0.560311</td>\n",
       "      <td>True</td>\n",
       "      <td>Rottweiler</td>\n",
       "      <td>0.243682</td>\n",
       "      <td>True</td>\n",
       "      <td>Doberman</td>\n",
       "      <td>0.154629</td>\n",
       "      <td>True</td>\n",
       "    </tr>\n",
       "  </tbody>\n",
       "</table>\n",
       "</div>"
      ],
      "text/plain": [
       "             tweet_id                                          jpg_url  \\\n",
       "0  666020888022790149  https://pbs.twimg.com/media/CT4udn0WwAA0aMy.jpg   \n",
       "1  666029285002620928  https://pbs.twimg.com/media/CT42GRgUYAA5iDo.jpg   \n",
       "2  666033412701032449  https://pbs.twimg.com/media/CT4521TWwAEvMyu.jpg   \n",
       "3  666044226329800704  https://pbs.twimg.com/media/CT5Dr8HUEAA-lEu.jpg   \n",
       "4  666049248165822465  https://pbs.twimg.com/media/CT5IQmsXIAAKY4A.jpg   \n",
       "\n",
       "   img_num                      p1   p1_conf  p1_dog                  p2  \\\n",
       "0        1  Welsh_springer_spaniel  0.465074    True              collie   \n",
       "1        1                 redbone  0.506826    True  miniature_pinscher   \n",
       "2        1         German_shepherd  0.596461    True            malinois   \n",
       "3        1     Rhodesian_ridgeback  0.408143    True             redbone   \n",
       "4        1      miniature_pinscher  0.560311    True          Rottweiler   \n",
       "\n",
       "    p2_conf  p2_dog                   p3   p3_conf  p3_dog  \n",
       "0  0.156665    True    Shetland_sheepdog  0.061428    True  \n",
       "1  0.074192    True  Rhodesian_ridgeback  0.072010    True  \n",
       "2  0.138584    True           bloodhound  0.116197    True  \n",
       "3  0.360687    True   miniature_pinscher  0.222752    True  \n",
       "4  0.243682    True             Doberman  0.154629    True  "
      ]
     },
     "execution_count": 6,
     "metadata": {},
     "output_type": "execute_result"
    }
   ],
   "source": [
    " # Image-Prediction\n",
    "\n",
    "image_pred = pd.read_csv(\"image-predictions.tsv\", sep = \"\\t\")\n",
    "image_pred.head()"
   ]
  },
  {
   "cell_type": "code",
   "execution_count": 7,
   "id": "561e6be3",
   "metadata": {
    "scrolled": false
   },
   "outputs": [
    {
     "data": {
      "text/html": [
       "<div>\n",
       "<style scoped>\n",
       "    .dataframe tbody tr th:only-of-type {\n",
       "        vertical-align: middle;\n",
       "    }\n",
       "\n",
       "    .dataframe tbody tr th {\n",
       "        vertical-align: top;\n",
       "    }\n",
       "\n",
       "    .dataframe thead th {\n",
       "        text-align: right;\n",
       "    }\n",
       "</style>\n",
       "<table border=\"1\" class=\"dataframe\">\n",
       "  <thead>\n",
       "    <tr style=\"text-align: right;\">\n",
       "      <th></th>\n",
       "      <th>created_at</th>\n",
       "      <th>id</th>\n",
       "      <th>id_str</th>\n",
       "      <th>full_text</th>\n",
       "      <th>truncated</th>\n",
       "      <th>display_text_range</th>\n",
       "      <th>entities</th>\n",
       "      <th>extended_entities</th>\n",
       "      <th>source</th>\n",
       "      <th>in_reply_to_status_id</th>\n",
       "      <th>...</th>\n",
       "      <th>favorite_count</th>\n",
       "      <th>favorited</th>\n",
       "      <th>retweeted</th>\n",
       "      <th>possibly_sensitive</th>\n",
       "      <th>possibly_sensitive_appealable</th>\n",
       "      <th>lang</th>\n",
       "      <th>retweeted_status</th>\n",
       "      <th>quoted_status_id</th>\n",
       "      <th>quoted_status_id_str</th>\n",
       "      <th>quoted_status</th>\n",
       "    </tr>\n",
       "  </thead>\n",
       "  <tbody>\n",
       "    <tr>\n",
       "      <th>0</th>\n",
       "      <td>Tue Aug 01 16:23:56 +0000 2017</td>\n",
       "      <td>892420643555336193</td>\n",
       "      <td>892420643555336193</td>\n",
       "      <td>This is Phineas. He's a mystical boy. Only eve...</td>\n",
       "      <td>False</td>\n",
       "      <td>[0, 85]</td>\n",
       "      <td>{'hashtags': [], 'symbols': [], 'user_mentions...</td>\n",
       "      <td>{'media': [{'id': 892420639486877696, 'id_str'...</td>\n",
       "      <td>&lt;a href=\"http://twitter.com/download/iphone\" r...</td>\n",
       "      <td>NaN</td>\n",
       "      <td>...</td>\n",
       "      <td>39467</td>\n",
       "      <td>False</td>\n",
       "      <td>False</td>\n",
       "      <td>False</td>\n",
       "      <td>False</td>\n",
       "      <td>en</td>\n",
       "      <td>NaN</td>\n",
       "      <td>NaN</td>\n",
       "      <td>NaN</td>\n",
       "      <td>NaN</td>\n",
       "    </tr>\n",
       "    <tr>\n",
       "      <th>1</th>\n",
       "      <td>Tue Aug 01 00:17:27 +0000 2017</td>\n",
       "      <td>892177421306343426</td>\n",
       "      <td>892177421306343426</td>\n",
       "      <td>This is Tilly. She's just checking pup on you....</td>\n",
       "      <td>False</td>\n",
       "      <td>[0, 138]</td>\n",
       "      <td>{'hashtags': [], 'symbols': [], 'user_mentions...</td>\n",
       "      <td>{'media': [{'id': 892177413194625024, 'id_str'...</td>\n",
       "      <td>&lt;a href=\"http://twitter.com/download/iphone\" r...</td>\n",
       "      <td>NaN</td>\n",
       "      <td>...</td>\n",
       "      <td>33819</td>\n",
       "      <td>False</td>\n",
       "      <td>False</td>\n",
       "      <td>False</td>\n",
       "      <td>False</td>\n",
       "      <td>en</td>\n",
       "      <td>NaN</td>\n",
       "      <td>NaN</td>\n",
       "      <td>NaN</td>\n",
       "      <td>NaN</td>\n",
       "    </tr>\n",
       "    <tr>\n",
       "      <th>2</th>\n",
       "      <td>Mon Jul 31 00:18:03 +0000 2017</td>\n",
       "      <td>891815181378084864</td>\n",
       "      <td>891815181378084864</td>\n",
       "      <td>This is Archie. He is a rare Norwegian Pouncin...</td>\n",
       "      <td>False</td>\n",
       "      <td>[0, 121]</td>\n",
       "      <td>{'hashtags': [], 'symbols': [], 'user_mentions...</td>\n",
       "      <td>{'media': [{'id': 891815175371796480, 'id_str'...</td>\n",
       "      <td>&lt;a href=\"http://twitter.com/download/iphone\" r...</td>\n",
       "      <td>NaN</td>\n",
       "      <td>...</td>\n",
       "      <td>25461</td>\n",
       "      <td>False</td>\n",
       "      <td>False</td>\n",
       "      <td>False</td>\n",
       "      <td>False</td>\n",
       "      <td>en</td>\n",
       "      <td>NaN</td>\n",
       "      <td>NaN</td>\n",
       "      <td>NaN</td>\n",
       "      <td>NaN</td>\n",
       "    </tr>\n",
       "    <tr>\n",
       "      <th>3</th>\n",
       "      <td>Sun Jul 30 15:58:51 +0000 2017</td>\n",
       "      <td>891689557279858688</td>\n",
       "      <td>891689557279858688</td>\n",
       "      <td>This is Darla. She commenced a snooze mid meal...</td>\n",
       "      <td>False</td>\n",
       "      <td>[0, 79]</td>\n",
       "      <td>{'hashtags': [], 'symbols': [], 'user_mentions...</td>\n",
       "      <td>{'media': [{'id': 891689552724799489, 'id_str'...</td>\n",
       "      <td>&lt;a href=\"http://twitter.com/download/iphone\" r...</td>\n",
       "      <td>NaN</td>\n",
       "      <td>...</td>\n",
       "      <td>42908</td>\n",
       "      <td>False</td>\n",
       "      <td>False</td>\n",
       "      <td>False</td>\n",
       "      <td>False</td>\n",
       "      <td>en</td>\n",
       "      <td>NaN</td>\n",
       "      <td>NaN</td>\n",
       "      <td>NaN</td>\n",
       "      <td>NaN</td>\n",
       "    </tr>\n",
       "    <tr>\n",
       "      <th>4</th>\n",
       "      <td>Sat Jul 29 16:00:24 +0000 2017</td>\n",
       "      <td>891327558926688256</td>\n",
       "      <td>891327558926688256</td>\n",
       "      <td>This is Franklin. He would like you to stop ca...</td>\n",
       "      <td>False</td>\n",
       "      <td>[0, 138]</td>\n",
       "      <td>{'hashtags': [{'text': 'BarkWeek', 'indices': ...</td>\n",
       "      <td>{'media': [{'id': 891327551943041024, 'id_str'...</td>\n",
       "      <td>&lt;a href=\"http://twitter.com/download/iphone\" r...</td>\n",
       "      <td>NaN</td>\n",
       "      <td>...</td>\n",
       "      <td>41048</td>\n",
       "      <td>False</td>\n",
       "      <td>False</td>\n",
       "      <td>False</td>\n",
       "      <td>False</td>\n",
       "      <td>en</td>\n",
       "      <td>NaN</td>\n",
       "      <td>NaN</td>\n",
       "      <td>NaN</td>\n",
       "      <td>NaN</td>\n",
       "    </tr>\n",
       "  </tbody>\n",
       "</table>\n",
       "<p>5 rows × 31 columns</p>\n",
       "</div>"
      ],
      "text/plain": [
       "                       created_at                  id              id_str  \\\n",
       "0  Tue Aug 01 16:23:56 +0000 2017  892420643555336193  892420643555336193   \n",
       "1  Tue Aug 01 00:17:27 +0000 2017  892177421306343426  892177421306343426   \n",
       "2  Mon Jul 31 00:18:03 +0000 2017  891815181378084864  891815181378084864   \n",
       "3  Sun Jul 30 15:58:51 +0000 2017  891689557279858688  891689557279858688   \n",
       "4  Sat Jul 29 16:00:24 +0000 2017  891327558926688256  891327558926688256   \n",
       "\n",
       "                                           full_text  truncated  \\\n",
       "0  This is Phineas. He's a mystical boy. Only eve...      False   \n",
       "1  This is Tilly. She's just checking pup on you....      False   \n",
       "2  This is Archie. He is a rare Norwegian Pouncin...      False   \n",
       "3  This is Darla. She commenced a snooze mid meal...      False   \n",
       "4  This is Franklin. He would like you to stop ca...      False   \n",
       "\n",
       "  display_text_range                                           entities  \\\n",
       "0            [0, 85]  {'hashtags': [], 'symbols': [], 'user_mentions...   \n",
       "1           [0, 138]  {'hashtags': [], 'symbols': [], 'user_mentions...   \n",
       "2           [0, 121]  {'hashtags': [], 'symbols': [], 'user_mentions...   \n",
       "3            [0, 79]  {'hashtags': [], 'symbols': [], 'user_mentions...   \n",
       "4           [0, 138]  {'hashtags': [{'text': 'BarkWeek', 'indices': ...   \n",
       "\n",
       "                                   extended_entities  \\\n",
       "0  {'media': [{'id': 892420639486877696, 'id_str'...   \n",
       "1  {'media': [{'id': 892177413194625024, 'id_str'...   \n",
       "2  {'media': [{'id': 891815175371796480, 'id_str'...   \n",
       "3  {'media': [{'id': 891689552724799489, 'id_str'...   \n",
       "4  {'media': [{'id': 891327551943041024, 'id_str'...   \n",
       "\n",
       "                                              source  in_reply_to_status_id  \\\n",
       "0  <a href=\"http://twitter.com/download/iphone\" r...                    NaN   \n",
       "1  <a href=\"http://twitter.com/download/iphone\" r...                    NaN   \n",
       "2  <a href=\"http://twitter.com/download/iphone\" r...                    NaN   \n",
       "3  <a href=\"http://twitter.com/download/iphone\" r...                    NaN   \n",
       "4  <a href=\"http://twitter.com/download/iphone\" r...                    NaN   \n",
       "\n",
       "   ... favorite_count  favorited retweeted possibly_sensitive  \\\n",
       "0  ...          39467      False     False              False   \n",
       "1  ...          33819      False     False              False   \n",
       "2  ...          25461      False     False              False   \n",
       "3  ...          42908      False     False              False   \n",
       "4  ...          41048      False     False              False   \n",
       "\n",
       "  possibly_sensitive_appealable lang retweeted_status quoted_status_id  \\\n",
       "0                         False   en              NaN              NaN   \n",
       "1                         False   en              NaN              NaN   \n",
       "2                         False   en              NaN              NaN   \n",
       "3                         False   en              NaN              NaN   \n",
       "4                         False   en              NaN              NaN   \n",
       "\n",
       "  quoted_status_id_str  quoted_status  \n",
       "0                  NaN            NaN  \n",
       "1                  NaN            NaN  \n",
       "2                  NaN            NaN  \n",
       "3                  NaN            NaN  \n",
       "4                  NaN            NaN  \n",
       "\n",
       "[5 rows x 31 columns]"
      ]
     },
     "execution_count": 7,
     "metadata": {},
     "output_type": "execute_result"
    }
   ],
   "source": [
    " # Twitter Api\n",
    "\n",
    "data = []\n",
    "with open(\"tweet-json.txt\", \"r\") as file:\n",
    "    lines = file.readlines()\n",
    "    \n",
    "    for line in lines:\n",
    "        data.append(json.loads(line))\n",
    "        \n",
    "        \n",
    "data_json = pd.DataFrame(data)\n",
    "data_json.head()"
   ]
  },
  {
   "cell_type": "markdown",
   "id": "aeccd64a",
   "metadata": {},
   "source": [
    "### Assessing <a class= \"anchor\" id= \"Assessing\"></a>\n",
    "\n",
    "The three dataframes will be merged before following through with the assessment."
   ]
  },
  {
   "cell_type": "code",
   "execution_count": 8,
   "id": "bf48ff71",
   "metadata": {
    "scrolled": true
   },
   "outputs": [
    {
     "name": "stdout",
     "output_type": "stream",
     "text": [
      "<class 'pandas.core.frame.DataFrame'>\n",
      "Int64Index: 2354 entries, 0 to 2353\n",
      "Data columns (total 59 columns):\n",
      " #   Column                         Non-Null Count  Dtype  \n",
      "---  ------                         --------------  -----  \n",
      " 0   tweet_id                       2354 non-null   int64  \n",
      " 1   in_reply_to_status_id          78 non-null     float64\n",
      " 2   in_reply_to_user_id            78 non-null     float64\n",
      " 3   timestamp                      2354 non-null   object \n",
      " 4   source                         2354 non-null   object \n",
      " 5   text                           2354 non-null   object \n",
      " 6   retweeted_status_id            179 non-null    float64\n",
      " 7   retweeted_status_user_id       179 non-null    float64\n",
      " 8   retweeted_status_timestamp     179 non-null    object \n",
      " 9   expanded_urls                  2295 non-null   object \n",
      " 10  rating_numerator               2354 non-null   int64  \n",
      " 11  rating_denominator             2354 non-null   int64  \n",
      " 12  name                           2354 non-null   object \n",
      " 13  doggo                          2354 non-null   object \n",
      " 14  floofer                        2354 non-null   object \n",
      " 15  pupper                         2354 non-null   object \n",
      " 16  puppo                          2354 non-null   object \n",
      " 17  created_at                     2354 non-null   object \n",
      " 18  id                             2354 non-null   int64  \n",
      " 19  id_str                         2354 non-null   object \n",
      " 20  full_text                      2354 non-null   object \n",
      " 21  truncated                      2354 non-null   bool   \n",
      " 22  display_text_range             2354 non-null   object \n",
      " 23  entities                       2354 non-null   object \n",
      " 24  extended_entities              2073 non-null   object \n",
      " 25  source_api                     2354 non-null   object \n",
      " 26  in_reply_to_status_id_api      78 non-null     float64\n",
      " 27  in_reply_to_status_id_str      78 non-null     object \n",
      " 28  in_reply_to_user_id_api        78 non-null     float64\n",
      " 29  in_reply_to_user_id_str        78 non-null     object \n",
      " 30  in_reply_to_screen_name        78 non-null     object \n",
      " 31  user                           2354 non-null   object \n",
      " 32  geo                            0 non-null      object \n",
      " 33  coordinates                    0 non-null      object \n",
      " 34  place                          1 non-null      object \n",
      " 35  contributors                   0 non-null      object \n",
      " 36  is_quote_status                2354 non-null   bool   \n",
      " 37  retweet_count                  2354 non-null   int64  \n",
      " 38  favorite_count                 2354 non-null   int64  \n",
      " 39  favorited                      2354 non-null   bool   \n",
      " 40  retweeted                      2354 non-null   bool   \n",
      " 41  possibly_sensitive             2211 non-null   object \n",
      " 42  possibly_sensitive_appealable  2211 non-null   object \n",
      " 43  lang                           2354 non-null   object \n",
      " 44  retweeted_status               179 non-null    object \n",
      " 45  quoted_status_id               29 non-null     float64\n",
      " 46  quoted_status_id_str           29 non-null     object \n",
      " 47  quoted_status                  28 non-null     object \n",
      " 48  jpg_url                        2073 non-null   object \n",
      " 49  img_num                        2073 non-null   float64\n",
      " 50  p1                             2073 non-null   object \n",
      " 51  p1_conf                        2073 non-null   float64\n",
      " 52  p1_dog                         2073 non-null   object \n",
      " 53  p2                             2073 non-null   object \n",
      " 54  p2_conf                        2073 non-null   float64\n",
      " 55  p2_dog                         2073 non-null   object \n",
      " 56  p3                             2073 non-null   object \n",
      " 57  p3_conf                        2073 non-null   float64\n",
      " 58  p3_dog                         2073 non-null   object \n",
      "dtypes: bool(4), float64(11), int64(6), object(38)\n",
      "memory usage: 1.0+ MB\n"
     ]
    }
   ],
   "source": [
    "\n",
    "df_tweet = tweet_archive.merge(data_json, left_on = \"tweet_id\", right_on = \"id\", suffixes =(\"\",  \"_api\"))\n",
    "df_tweet = df_tweet.merge(image_pred, how = \"left\", on = \"tweet_id\")\n",
    "\n",
    "df_tweet.info()"
   ]
  },
  {
   "cell_type": "code",
   "execution_count": 9,
   "id": "3916376d",
   "metadata": {
    "scrolled": false
   },
   "outputs": [
    {
     "data": {
      "text/html": [
       "<div>\n",
       "<style scoped>\n",
       "    .dataframe tbody tr th:only-of-type {\n",
       "        vertical-align: middle;\n",
       "    }\n",
       "\n",
       "    .dataframe tbody tr th {\n",
       "        vertical-align: top;\n",
       "    }\n",
       "\n",
       "    .dataframe thead th {\n",
       "        text-align: right;\n",
       "    }\n",
       "</style>\n",
       "<table border=\"1\" class=\"dataframe\">\n",
       "  <thead>\n",
       "    <tr style=\"text-align: right;\">\n",
       "      <th></th>\n",
       "      <th>tweet_id</th>\n",
       "      <th>in_reply_to_status_id</th>\n",
       "      <th>in_reply_to_user_id</th>\n",
       "      <th>retweeted_status_id</th>\n",
       "      <th>retweeted_status_user_id</th>\n",
       "      <th>rating_numerator</th>\n",
       "      <th>rating_denominator</th>\n",
       "      <th>id</th>\n",
       "      <th>in_reply_to_status_id_api</th>\n",
       "      <th>in_reply_to_user_id_api</th>\n",
       "      <th>retweet_count</th>\n",
       "      <th>favorite_count</th>\n",
       "      <th>quoted_status_id</th>\n",
       "      <th>img_num</th>\n",
       "      <th>p1_conf</th>\n",
       "      <th>p2_conf</th>\n",
       "      <th>p3_conf</th>\n",
       "    </tr>\n",
       "  </thead>\n",
       "  <tbody>\n",
       "    <tr>\n",
       "      <th>count</th>\n",
       "      <td>2.354000e+03</td>\n",
       "      <td>7.800000e+01</td>\n",
       "      <td>7.800000e+01</td>\n",
       "      <td>1.790000e+02</td>\n",
       "      <td>1.790000e+02</td>\n",
       "      <td>2354.000000</td>\n",
       "      <td>2354.00000</td>\n",
       "      <td>2.354000e+03</td>\n",
       "      <td>7.800000e+01</td>\n",
       "      <td>7.800000e+01</td>\n",
       "      <td>2354.000000</td>\n",
       "      <td>2354.000000</td>\n",
       "      <td>2.900000e+01</td>\n",
       "      <td>2073.000000</td>\n",
       "      <td>2073.000000</td>\n",
       "      <td>2.073000e+03</td>\n",
       "      <td>2.073000e+03</td>\n",
       "    </tr>\n",
       "    <tr>\n",
       "      <th>mean</th>\n",
       "      <td>7.426978e+17</td>\n",
       "      <td>7.455079e+17</td>\n",
       "      <td>2.014171e+16</td>\n",
       "      <td>7.714009e+17</td>\n",
       "      <td>1.255572e+16</td>\n",
       "      <td>13.127018</td>\n",
       "      <td>10.45582</td>\n",
       "      <td>7.426978e+17</td>\n",
       "      <td>7.455079e+17</td>\n",
       "      <td>2.014171e+16</td>\n",
       "      <td>3164.797366</td>\n",
       "      <td>8080.968564</td>\n",
       "      <td>8.162686e+17</td>\n",
       "      <td>1.203570</td>\n",
       "      <td>0.594532</td>\n",
       "      <td>1.346665e-01</td>\n",
       "      <td>6.034005e-02</td>\n",
       "    </tr>\n",
       "    <tr>\n",
       "      <th>std</th>\n",
       "      <td>6.852812e+16</td>\n",
       "      <td>7.582492e+16</td>\n",
       "      <td>1.252797e+17</td>\n",
       "      <td>6.211568e+16</td>\n",
       "      <td>9.652124e+16</td>\n",
       "      <td>45.896135</td>\n",
       "      <td>6.74809</td>\n",
       "      <td>6.852812e+16</td>\n",
       "      <td>7.582492e+16</td>\n",
       "      <td>1.252797e+17</td>\n",
       "      <td>5284.770364</td>\n",
       "      <td>11814.771334</td>\n",
       "      <td>6.164161e+16</td>\n",
       "      <td>0.561856</td>\n",
       "      <td>0.271234</td>\n",
       "      <td>1.006830e-01</td>\n",
       "      <td>5.092769e-02</td>\n",
       "    </tr>\n",
       "    <tr>\n",
       "      <th>min</th>\n",
       "      <td>6.660209e+17</td>\n",
       "      <td>6.658147e+17</td>\n",
       "      <td>1.185634e+07</td>\n",
       "      <td>6.661041e+17</td>\n",
       "      <td>7.832140e+05</td>\n",
       "      <td>0.000000</td>\n",
       "      <td>0.00000</td>\n",
       "      <td>6.660209e+17</td>\n",
       "      <td>6.658147e+17</td>\n",
       "      <td>1.185634e+07</td>\n",
       "      <td>0.000000</td>\n",
       "      <td>0.000000</td>\n",
       "      <td>6.721083e+17</td>\n",
       "      <td>1.000000</td>\n",
       "      <td>0.044333</td>\n",
       "      <td>1.011300e-08</td>\n",
       "      <td>1.740170e-10</td>\n",
       "    </tr>\n",
       "    <tr>\n",
       "      <th>25%</th>\n",
       "      <td>6.783975e+17</td>\n",
       "      <td>6.757419e+17</td>\n",
       "      <td>3.086374e+08</td>\n",
       "      <td>7.157203e+17</td>\n",
       "      <td>4.196984e+09</td>\n",
       "      <td>10.000000</td>\n",
       "      <td>10.00000</td>\n",
       "      <td>6.783975e+17</td>\n",
       "      <td>6.757419e+17</td>\n",
       "      <td>3.086374e+08</td>\n",
       "      <td>624.500000</td>\n",
       "      <td>1415.000000</td>\n",
       "      <td>7.888183e+17</td>\n",
       "      <td>1.000000</td>\n",
       "      <td>0.364095</td>\n",
       "      <td>5.390140e-02</td>\n",
       "      <td>1.619920e-02</td>\n",
       "    </tr>\n",
       "    <tr>\n",
       "      <th>50%</th>\n",
       "      <td>7.194596e+17</td>\n",
       "      <td>7.038708e+17</td>\n",
       "      <td>4.196984e+09</td>\n",
       "      <td>7.804657e+17</td>\n",
       "      <td>4.196984e+09</td>\n",
       "      <td>11.000000</td>\n",
       "      <td>10.00000</td>\n",
       "      <td>7.194596e+17</td>\n",
       "      <td>7.038708e+17</td>\n",
       "      <td>4.196984e+09</td>\n",
       "      <td>1473.500000</td>\n",
       "      <td>3603.500000</td>\n",
       "      <td>8.340867e+17</td>\n",
       "      <td>1.000000</td>\n",
       "      <td>0.588230</td>\n",
       "      <td>1.186220e-01</td>\n",
       "      <td>4.947150e-02</td>\n",
       "    </tr>\n",
       "    <tr>\n",
       "      <th>75%</th>\n",
       "      <td>7.993058e+17</td>\n",
       "      <td>8.257804e+17</td>\n",
       "      <td>4.196984e+09</td>\n",
       "      <td>8.201334e+17</td>\n",
       "      <td>4.196984e+09</td>\n",
       "      <td>12.000000</td>\n",
       "      <td>10.00000</td>\n",
       "      <td>7.993058e+17</td>\n",
       "      <td>8.257804e+17</td>\n",
       "      <td>4.196984e+09</td>\n",
       "      <td>3652.000000</td>\n",
       "      <td>10122.250000</td>\n",
       "      <td>8.664587e+17</td>\n",
       "      <td>1.000000</td>\n",
       "      <td>0.843911</td>\n",
       "      <td>1.955730e-01</td>\n",
       "      <td>9.193000e-02</td>\n",
       "    </tr>\n",
       "    <tr>\n",
       "      <th>max</th>\n",
       "      <td>8.924206e+17</td>\n",
       "      <td>8.862664e+17</td>\n",
       "      <td>8.405479e+17</td>\n",
       "      <td>8.860537e+17</td>\n",
       "      <td>7.874618e+17</td>\n",
       "      <td>1776.000000</td>\n",
       "      <td>170.00000</td>\n",
       "      <td>8.924206e+17</td>\n",
       "      <td>8.862664e+17</td>\n",
       "      <td>8.405479e+17</td>\n",
       "      <td>79515.000000</td>\n",
       "      <td>132810.000000</td>\n",
       "      <td>8.860534e+17</td>\n",
       "      <td>4.000000</td>\n",
       "      <td>1.000000</td>\n",
       "      <td>4.880140e-01</td>\n",
       "      <td>2.734190e-01</td>\n",
       "    </tr>\n",
       "  </tbody>\n",
       "</table>\n",
       "</div>"
      ],
      "text/plain": [
       "           tweet_id  in_reply_to_status_id  in_reply_to_user_id  \\\n",
       "count  2.354000e+03           7.800000e+01         7.800000e+01   \n",
       "mean   7.426978e+17           7.455079e+17         2.014171e+16   \n",
       "std    6.852812e+16           7.582492e+16         1.252797e+17   \n",
       "min    6.660209e+17           6.658147e+17         1.185634e+07   \n",
       "25%    6.783975e+17           6.757419e+17         3.086374e+08   \n",
       "50%    7.194596e+17           7.038708e+17         4.196984e+09   \n",
       "75%    7.993058e+17           8.257804e+17         4.196984e+09   \n",
       "max    8.924206e+17           8.862664e+17         8.405479e+17   \n",
       "\n",
       "       retweeted_status_id  retweeted_status_user_id  rating_numerator  \\\n",
       "count         1.790000e+02              1.790000e+02       2354.000000   \n",
       "mean          7.714009e+17              1.255572e+16         13.127018   \n",
       "std           6.211568e+16              9.652124e+16         45.896135   \n",
       "min           6.661041e+17              7.832140e+05          0.000000   \n",
       "25%           7.157203e+17              4.196984e+09         10.000000   \n",
       "50%           7.804657e+17              4.196984e+09         11.000000   \n",
       "75%           8.201334e+17              4.196984e+09         12.000000   \n",
       "max           8.860537e+17              7.874618e+17       1776.000000   \n",
       "\n",
       "       rating_denominator            id  in_reply_to_status_id_api  \\\n",
       "count          2354.00000  2.354000e+03               7.800000e+01   \n",
       "mean             10.45582  7.426978e+17               7.455079e+17   \n",
       "std               6.74809  6.852812e+16               7.582492e+16   \n",
       "min               0.00000  6.660209e+17               6.658147e+17   \n",
       "25%              10.00000  6.783975e+17               6.757419e+17   \n",
       "50%              10.00000  7.194596e+17               7.038708e+17   \n",
       "75%              10.00000  7.993058e+17               8.257804e+17   \n",
       "max             170.00000  8.924206e+17               8.862664e+17   \n",
       "\n",
       "       in_reply_to_user_id_api  retweet_count  favorite_count  \\\n",
       "count             7.800000e+01    2354.000000     2354.000000   \n",
       "mean              2.014171e+16    3164.797366     8080.968564   \n",
       "std               1.252797e+17    5284.770364    11814.771334   \n",
       "min               1.185634e+07       0.000000        0.000000   \n",
       "25%               3.086374e+08     624.500000     1415.000000   \n",
       "50%               4.196984e+09    1473.500000     3603.500000   \n",
       "75%               4.196984e+09    3652.000000    10122.250000   \n",
       "max               8.405479e+17   79515.000000   132810.000000   \n",
       "\n",
       "       quoted_status_id      img_num      p1_conf       p2_conf       p3_conf  \n",
       "count      2.900000e+01  2073.000000  2073.000000  2.073000e+03  2.073000e+03  \n",
       "mean       8.162686e+17     1.203570     0.594532  1.346665e-01  6.034005e-02  \n",
       "std        6.164161e+16     0.561856     0.271234  1.006830e-01  5.092769e-02  \n",
       "min        6.721083e+17     1.000000     0.044333  1.011300e-08  1.740170e-10  \n",
       "25%        7.888183e+17     1.000000     0.364095  5.390140e-02  1.619920e-02  \n",
       "50%        8.340867e+17     1.000000     0.588230  1.186220e-01  4.947150e-02  \n",
       "75%        8.664587e+17     1.000000     0.843911  1.955730e-01  9.193000e-02  \n",
       "max        8.860534e+17     4.000000     1.000000  4.880140e-01  2.734190e-01  "
      ]
     },
     "execution_count": 9,
     "metadata": {},
     "output_type": "execute_result"
    }
   ],
   "source": [
    "df_tweet.describe()"
   ]
  },
  {
   "cell_type": "code",
   "execution_count": 10,
   "id": "25adb8eb",
   "metadata": {
    "scrolled": true
   },
   "outputs": [
    {
     "data": {
      "text/html": [
       "<div>\n",
       "<style scoped>\n",
       "    .dataframe tbody tr th:only-of-type {\n",
       "        vertical-align: middle;\n",
       "    }\n",
       "\n",
       "    .dataframe tbody tr th {\n",
       "        vertical-align: top;\n",
       "    }\n",
       "\n",
       "    .dataframe thead th {\n",
       "        text-align: right;\n",
       "    }\n",
       "</style>\n",
       "<table border=\"1\" class=\"dataframe\">\n",
       "  <thead>\n",
       "    <tr style=\"text-align: right;\">\n",
       "      <th></th>\n",
       "      <th>tweet_id</th>\n",
       "      <th>id_str</th>\n",
       "      <th>timestamp</th>\n",
       "      <th>created_at</th>\n",
       "      <th>text</th>\n",
       "    </tr>\n",
       "  </thead>\n",
       "  <tbody>\n",
       "    <tr>\n",
       "      <th>2185</th>\n",
       "      <td>668979806671884288</td>\n",
       "      <td>668979806671884288</td>\n",
       "      <td>2015-11-24 02:29:49 +0000</td>\n",
       "      <td>Tue Nov 24 02:29:49 +0000 2015</td>\n",
       "      <td>This is Chaz. He's an X Games half pipe supers...</td>\n",
       "    </tr>\n",
       "  </tbody>\n",
       "</table>\n",
       "</div>"
      ],
      "text/plain": [
       "                tweet_id              id_str                  timestamp  \\\n",
       "2185  668979806671884288  668979806671884288  2015-11-24 02:29:49 +0000   \n",
       "\n",
       "                          created_at  \\\n",
       "2185  Tue Nov 24 02:29:49 +0000 2015   \n",
       "\n",
       "                                                   text  \n",
       "2185  This is Chaz. He's an X Games half pipe supers...  "
      ]
     },
     "execution_count": 10,
     "metadata": {},
     "output_type": "execute_result"
    }
   ],
   "source": [
    "# Checking for duplicate columns\n",
    "\n",
    "df_tweet[[\"tweet_id\",\"id_str\", \"timestamp\", \"created_at\", \"text\"]].sample()"
   ]
  },
  {
   "cell_type": "markdown",
   "id": "e96e636a",
   "metadata": {},
   "source": [
    "From the cel above and the `info()` shows that some columns have duplicates. "
   ]
  },
  {
   "cell_type": "code",
   "execution_count": 11,
   "id": "f44070ef",
   "metadata": {
    "scrolled": true
   },
   "outputs": [
    {
     "data": {
      "text/html": [
       "<div>\n",
       "<style scoped>\n",
       "    .dataframe tbody tr th:only-of-type {\n",
       "        vertical-align: middle;\n",
       "    }\n",
       "\n",
       "    .dataframe tbody tr th {\n",
       "        vertical-align: top;\n",
       "    }\n",
       "\n",
       "    .dataframe thead th {\n",
       "        text-align: right;\n",
       "    }\n",
       "</style>\n",
       "<table border=\"1\" class=\"dataframe\">\n",
       "  <thead>\n",
       "    <tr style=\"text-align: right;\">\n",
       "      <th></th>\n",
       "      <th>pupper</th>\n",
       "      <th>puppo</th>\n",
       "      <th>doggo</th>\n",
       "      <th>floofer</th>\n",
       "    </tr>\n",
       "  </thead>\n",
       "  <tbody>\n",
       "    <tr>\n",
       "      <th>count</th>\n",
       "      <td>2354</td>\n",
       "      <td>2354</td>\n",
       "      <td>2354</td>\n",
       "      <td>2354</td>\n",
       "    </tr>\n",
       "    <tr>\n",
       "      <th>unique</th>\n",
       "      <td>2</td>\n",
       "      <td>2</td>\n",
       "      <td>2</td>\n",
       "      <td>2</td>\n",
       "    </tr>\n",
       "    <tr>\n",
       "      <th>top</th>\n",
       "      <td>None</td>\n",
       "      <td>None</td>\n",
       "      <td>None</td>\n",
       "      <td>None</td>\n",
       "    </tr>\n",
       "    <tr>\n",
       "      <th>freq</th>\n",
       "      <td>2098</td>\n",
       "      <td>2324</td>\n",
       "      <td>2257</td>\n",
       "      <td>2344</td>\n",
       "    </tr>\n",
       "  </tbody>\n",
       "</table>\n",
       "</div>"
      ],
      "text/plain": [
       "       pupper puppo doggo floofer\n",
       "count    2354  2354  2354    2354\n",
       "unique      2     2     2       2\n",
       "top      None  None  None    None\n",
       "freq     2098  2324  2257    2344"
      ]
     },
     "execution_count": 11,
     "metadata": {},
     "output_type": "execute_result"
    }
   ],
   "source": [
    "# summary statistics on object columns\n",
    "df_tweet[[\"pupper\", \"puppo\", \"doggo\", \"floofer\"]].describe()"
   ]
  },
  {
   "cell_type": "markdown",
   "id": "1da7fd4d",
   "metadata": {},
   "source": [
    "The object colunmns have None inplace of NaN to represent missing data"
   ]
  },
  {
   "cell_type": "code",
   "execution_count": 12,
   "id": "4c3b947f",
   "metadata": {
    "scrolled": true
   },
   "outputs": [
    {
     "data": {
      "text/html": [
       "<div>\n",
       "<style scoped>\n",
       "    .dataframe tbody tr th:only-of-type {\n",
       "        vertical-align: middle;\n",
       "    }\n",
       "\n",
       "    .dataframe tbody tr th {\n",
       "        vertical-align: top;\n",
       "    }\n",
       "\n",
       "    .dataframe thead th {\n",
       "        text-align: right;\n",
       "    }\n",
       "</style>\n",
       "<table border=\"1\" class=\"dataframe\">\n",
       "  <thead>\n",
       "    <tr style=\"text-align: right;\">\n",
       "      <th></th>\n",
       "      <th>rating_numerator</th>\n",
       "      <th>rating_denominator</th>\n",
       "    </tr>\n",
       "  </thead>\n",
       "  <tbody>\n",
       "    <tr>\n",
       "      <th>count</th>\n",
       "      <td>2354.000000</td>\n",
       "      <td>2354.00000</td>\n",
       "    </tr>\n",
       "    <tr>\n",
       "      <th>mean</th>\n",
       "      <td>13.127018</td>\n",
       "      <td>10.45582</td>\n",
       "    </tr>\n",
       "    <tr>\n",
       "      <th>std</th>\n",
       "      <td>45.896135</td>\n",
       "      <td>6.74809</td>\n",
       "    </tr>\n",
       "    <tr>\n",
       "      <th>min</th>\n",
       "      <td>0.000000</td>\n",
       "      <td>0.00000</td>\n",
       "    </tr>\n",
       "    <tr>\n",
       "      <th>25%</th>\n",
       "      <td>10.000000</td>\n",
       "      <td>10.00000</td>\n",
       "    </tr>\n",
       "    <tr>\n",
       "      <th>50%</th>\n",
       "      <td>11.000000</td>\n",
       "      <td>10.00000</td>\n",
       "    </tr>\n",
       "    <tr>\n",
       "      <th>75%</th>\n",
       "      <td>12.000000</td>\n",
       "      <td>10.00000</td>\n",
       "    </tr>\n",
       "    <tr>\n",
       "      <th>max</th>\n",
       "      <td>1776.000000</td>\n",
       "      <td>170.00000</td>\n",
       "    </tr>\n",
       "  </tbody>\n",
       "</table>\n",
       "</div>"
      ],
      "text/plain": [
       "       rating_numerator  rating_denominator\n",
       "count       2354.000000          2354.00000\n",
       "mean          13.127018            10.45582\n",
       "std           45.896135             6.74809\n",
       "min            0.000000             0.00000\n",
       "25%           10.000000            10.00000\n",
       "50%           11.000000            10.00000\n",
       "75%           12.000000            10.00000\n",
       "max         1776.000000           170.00000"
      ]
     },
     "execution_count": 12,
     "metadata": {},
     "output_type": "execute_result"
    }
   ],
   "source": [
    "# assessing ratings\n",
    "\n",
    "df_tweet[[\"rating_numerator\",\"rating_denominator\"]].describe()"
   ]
  },
  {
   "cell_type": "code",
   "execution_count": 13,
   "id": "34eb3acf",
   "metadata": {
    "scrolled": true
   },
   "outputs": [
    {
     "data": {
      "text/plain": [
       "75      2\n",
       "420     2\n",
       "17      1\n",
       "99      1\n",
       "144     1\n",
       "26      1\n",
       "20      1\n",
       "121     1\n",
       "143     1\n",
       "44      1\n",
       "60      1\n",
       "45      1\n",
       "80      1\n",
       "50      1\n",
       "204     1\n",
       "1776    1\n",
       "165     1\n",
       "27      1\n",
       "24      1\n",
       "84      1\n",
       "960     1\n",
       "182     1\n",
       "666     1\n",
       "88      1\n",
       "Name: rating_numerator, dtype: int64"
      ]
     },
     "execution_count": 13,
     "metadata": {},
     "output_type": "execute_result"
    }
   ],
   "source": [
    "high_numerator = df_tweet.query(\"rating_numerator > 15\")\n",
    "high_numerator[\"rating_numerator\"].value_counts()"
   ]
  },
  {
   "cell_type": "code",
   "execution_count": 14,
   "id": "00e71f7d",
   "metadata": {
    "scrolled": true
   },
   "outputs": [
    {
     "data": {
      "text/plain": [
       "50     3\n",
       "11     3\n",
       "80     2\n",
       "20     2\n",
       "120    1\n",
       "16     1\n",
       "110    1\n",
       "130    1\n",
       "40     1\n",
       "0      1\n",
       "90     1\n",
       "15     1\n",
       "170    1\n",
       "150    1\n",
       "7      1\n",
       "70     1\n",
       "2      1\n",
       "Name: rating_denominator, dtype: int64"
      ]
     },
     "execution_count": 14,
     "metadata": {},
     "output_type": "execute_result"
    }
   ],
   "source": [
    "high_denominator = df_tweet.query(\"rating_denominator != 10\")\n",
    "high_denominator[\"rating_denominator\"].value_counts()"
   ]
  },
  {
   "cell_type": "markdown",
   "id": "7a26edbd",
   "metadata": {},
   "source": [
    "The assessment of ratings shows denominator ratings that are not equal to 10 and numeration ratings having 3 digits"
   ]
  },
  {
   "cell_type": "code",
   "execution_count": 15,
   "id": "208ce2eb",
   "metadata": {
    "scrolled": false
   },
   "outputs": [
    {
     "data": {
      "text/plain": [
       "None       744\n",
       "a           55\n",
       "Charlie     12\n",
       "Cooper      11\n",
       "Lucy        11\n",
       "Oliver      11\n",
       "Penny       10\n",
       "Lola        10\n",
       "Tucker      10\n",
       "Winston      9\n",
       "Name: name, dtype: int64"
      ]
     },
     "execution_count": 15,
     "metadata": {},
     "output_type": "execute_result"
    }
   ],
   "source": [
    "# name column\n",
    "\n",
    "df_tweet[\"name\"].value_counts()[:10]"
   ]
  },
  {
   "cell_type": "markdown",
   "id": "434c1c09",
   "metadata": {},
   "source": [
    "There are invalid names like letter _**a**_. None used inplace of NaN to represent missing values."
   ]
  },
  {
   "cell_type": "code",
   "execution_count": 16,
   "id": "d9a25ad5",
   "metadata": {},
   "outputs": [
    {
     "name": "stdout",
     "output_type": "stream",
     "text": [
      "<class 'pandas.core.frame.DataFrame'>\n",
      "Int64Index: 2354 entries, 0 to 2353\n",
      "Data columns (total 2 columns):\n",
      " #   Column   Non-Null Count  Dtype  \n",
      "---  ------   --------------  -----  \n",
      " 0   jpg_url  2073 non-null   object \n",
      " 1   img_num  2073 non-null   float64\n",
      "dtypes: float64(1), object(1)\n",
      "memory usage: 55.2+ KB\n"
     ]
    }
   ],
   "source": [
    "df_tweet[[\"jpg_url\", \"img_num\"]].info()"
   ]
  },
  {
   "cell_type": "code",
   "execution_count": 17,
   "id": "484ee864",
   "metadata": {
    "scrolled": true
   },
   "outputs": [
    {
     "name": "stdout",
     "output_type": "stream",
     "text": [
      "<class 'pandas.core.frame.DataFrame'>\n",
      "Int64Index: 2354 entries, 0 to 2353\n",
      "Data columns (total 5 columns):\n",
      " #   Column                      Non-Null Count  Dtype  \n",
      "---  ------                      --------------  -----  \n",
      " 0   retweeted_status_user_id    179 non-null    float64\n",
      " 1   retweeted_status_id         179 non-null    float64\n",
      " 2   retweeted_status_timestamp  179 non-null    object \n",
      " 3   in_reply_to_status_id       78 non-null     float64\n",
      " 4   in_reply_to_user_id         78 non-null     float64\n",
      "dtypes: float64(4), object(1)\n",
      "memory usage: 110.3+ KB\n"
     ]
    }
   ],
   "source": [
    "df_tweet[[\"retweeted_status_user_id\", \"retweeted_status_id\", \"retweeted_status_timestamp\", \n",
    "          \"in_reply_to_status_id\", \"in_reply_to_user_id\"]].info()"
   ]
  },
  {
   "cell_type": "markdown",
   "id": "e61f4f9e",
   "metadata": {},
   "source": [
    "There are date enteries that are replies or retweets to the original tweets. Since this tweets are not original to WeRateDogs account, they are not needed for this project. There are tweets with no image."
   ]
  },
  {
   "cell_type": "code",
   "execution_count": 18,
   "id": "5becfd63",
   "metadata": {
    "scrolled": false
   },
   "outputs": [
    {
     "data": {
      "text/html": [
       "<div>\n",
       "<style scoped>\n",
       "    .dataframe tbody tr th:only-of-type {\n",
       "        vertical-align: middle;\n",
       "    }\n",
       "\n",
       "    .dataframe tbody tr th {\n",
       "        vertical-align: top;\n",
       "    }\n",
       "\n",
       "    .dataframe thead th {\n",
       "        text-align: right;\n",
       "    }\n",
       "</style>\n",
       "<table border=\"1\" class=\"dataframe\">\n",
       "  <thead>\n",
       "    <tr style=\"text-align: right;\">\n",
       "      <th></th>\n",
       "      <th>p1</th>\n",
       "      <th>p1_conf</th>\n",
       "      <th>p1_dog</th>\n",
       "      <th>p2</th>\n",
       "      <th>p2_dog</th>\n",
       "      <th>p2_conf</th>\n",
       "      <th>p3</th>\n",
       "      <th>p3_dog</th>\n",
       "      <th>p3_conf</th>\n",
       "    </tr>\n",
       "  </thead>\n",
       "  <tbody>\n",
       "    <tr>\n",
       "      <th>1779</th>\n",
       "      <td>Shih-Tzu</td>\n",
       "      <td>0.916645</td>\n",
       "      <td>True</td>\n",
       "      <td>Lhasa</td>\n",
       "      <td>True</td>\n",
       "      <td>0.057883</td>\n",
       "      <td>Pekinese</td>\n",
       "      <td>True</td>\n",
       "      <td>0.020126</td>\n",
       "    </tr>\n",
       "    <tr>\n",
       "      <th>1143</th>\n",
       "      <td>flat-coated_retriever</td>\n",
       "      <td>0.656463</td>\n",
       "      <td>True</td>\n",
       "      <td>Great_Dane</td>\n",
       "      <td>True</td>\n",
       "      <td>0.084766</td>\n",
       "      <td>Labrador_retriever</td>\n",
       "      <td>True</td>\n",
       "      <td>0.058909</td>\n",
       "    </tr>\n",
       "    <tr>\n",
       "      <th>505</th>\n",
       "      <td>NaN</td>\n",
       "      <td>NaN</td>\n",
       "      <td>NaN</td>\n",
       "      <td>NaN</td>\n",
       "      <td>NaN</td>\n",
       "      <td>NaN</td>\n",
       "      <td>NaN</td>\n",
       "      <td>NaN</td>\n",
       "      <td>NaN</td>\n",
       "    </tr>\n",
       "    <tr>\n",
       "      <th>1378</th>\n",
       "      <td>Chihuahua</td>\n",
       "      <td>0.615163</td>\n",
       "      <td>True</td>\n",
       "      <td>Pembroke</td>\n",
       "      <td>True</td>\n",
       "      <td>0.159509</td>\n",
       "      <td>basenji</td>\n",
       "      <td>True</td>\n",
       "      <td>0.084466</td>\n",
       "    </tr>\n",
       "    <tr>\n",
       "      <th>156</th>\n",
       "      <td>syringe</td>\n",
       "      <td>0.144712</td>\n",
       "      <td>False</td>\n",
       "      <td>oxygen_mask</td>\n",
       "      <td>False</td>\n",
       "      <td>0.106684</td>\n",
       "      <td>Bouvier_des_Flandres</td>\n",
       "      <td>True</td>\n",
       "      <td>0.082610</td>\n",
       "    </tr>\n",
       "  </tbody>\n",
       "</table>\n",
       "</div>"
      ],
      "text/plain": [
       "                         p1   p1_conf p1_dog           p2 p2_dog   p2_conf  \\\n",
       "1779               Shih-Tzu  0.916645   True        Lhasa   True  0.057883   \n",
       "1143  flat-coated_retriever  0.656463   True   Great_Dane   True  0.084766   \n",
       "505                     NaN       NaN    NaN          NaN    NaN       NaN   \n",
       "1378              Chihuahua  0.615163   True     Pembroke   True  0.159509   \n",
       "156                 syringe  0.144712  False  oxygen_mask  False  0.106684   \n",
       "\n",
       "                        p3 p3_dog   p3_conf  \n",
       "1779              Pekinese   True  0.020126  \n",
       "1143    Labrador_retriever   True  0.058909  \n",
       "505                    NaN    NaN       NaN  \n",
       "1378               basenji   True  0.084466  \n",
       "156   Bouvier_des_Flandres   True  0.082610  "
      ]
     },
     "execution_count": 18,
     "metadata": {},
     "output_type": "execute_result"
    }
   ],
   "source": [
    "df_tweet[[\"p1\", \"p1_conf\",\"p1_dog\", \"p2\", \"p2_dog\",\"p2_conf\", \"p3\",\"p3_dog\", \"p3_conf\"]].sample(5)"
   ]
  },
  {
   "cell_type": "markdown",
   "id": "75386d84",
   "metadata": {},
   "source": [
    "The breed and confidence is spread across nine columns."
   ]
  },
  {
   "cell_type": "code",
   "execution_count": 19,
   "id": "0a8079cb",
   "metadata": {},
   "outputs": [
    {
     "data": {
      "text/html": [
       "<div>\n",
       "<style scoped>\n",
       "    .dataframe tbody tr th:only-of-type {\n",
       "        vertical-align: middle;\n",
       "    }\n",
       "\n",
       "    .dataframe tbody tr th {\n",
       "        vertical-align: top;\n",
       "    }\n",
       "\n",
       "    .dataframe thead th {\n",
       "        text-align: right;\n",
       "    }\n",
       "</style>\n",
       "<table border=\"1\" class=\"dataframe\">\n",
       "  <thead>\n",
       "    <tr style=\"text-align: right;\">\n",
       "      <th></th>\n",
       "      <th>text</th>\n",
       "      <th>display_text_range</th>\n",
       "    </tr>\n",
       "  </thead>\n",
       "  <tbody>\n",
       "    <tr>\n",
       "      <th>0</th>\n",
       "      <td>This is Phineas. He's a mystical boy. Only eve...</td>\n",
       "      <td>[0, 85]</td>\n",
       "    </tr>\n",
       "    <tr>\n",
       "      <th>1</th>\n",
       "      <td>This is Tilly. She's just checking pup on you....</td>\n",
       "      <td>[0, 138]</td>\n",
       "    </tr>\n",
       "    <tr>\n",
       "      <th>2</th>\n",
       "      <td>This is Archie. He is a rare Norwegian Pouncin...</td>\n",
       "      <td>[0, 121]</td>\n",
       "    </tr>\n",
       "    <tr>\n",
       "      <th>3</th>\n",
       "      <td>This is Darla. She commenced a snooze mid meal...</td>\n",
       "      <td>[0, 79]</td>\n",
       "    </tr>\n",
       "    <tr>\n",
       "      <th>4</th>\n",
       "      <td>This is Franklin. He would like you to stop ca...</td>\n",
       "      <td>[0, 138]</td>\n",
       "    </tr>\n",
       "  </tbody>\n",
       "</table>\n",
       "</div>"
      ],
      "text/plain": [
       "                                                text display_text_range\n",
       "0  This is Phineas. He's a mystical boy. Only eve...            [0, 85]\n",
       "1  This is Tilly. She's just checking pup on you....           [0, 138]\n",
       "2  This is Archie. He is a rare Norwegian Pouncin...           [0, 121]\n",
       "3  This is Darla. She commenced a snooze mid meal...            [0, 79]\n",
       "4  This is Franklin. He would like you to stop ca...           [0, 138]"
      ]
     },
     "execution_count": 19,
     "metadata": {},
     "output_type": "execute_result"
    }
   ],
   "source": [
    "df_tweet[[\"text\", \"display_text_range\"]].head()"
   ]
  },
  {
   "cell_type": "code",
   "execution_count": 20,
   "id": "c59ac922",
   "metadata": {
    "scrolled": true
   },
   "outputs": [
    {
     "name": "stdout",
     "output_type": "stream",
     "text": [
      "<class 'pandas.core.frame.DataFrame'>\n",
      "Int64Index: 2354 entries, 0 to 2353\n",
      "Data columns (total 1 columns):\n",
      " #   Column     Non-Null Count  Dtype \n",
      "---  ------     --------------  ----- \n",
      " 0   timestamp  2354 non-null   object\n",
      "dtypes: object(1)\n",
      "memory usage: 36.8+ KB\n"
     ]
    }
   ],
   "source": [
    "df_tweet[[\"timestamp\"]].info()"
   ]
  },
  {
   "cell_type": "markdown",
   "id": "92793a79",
   "metadata": {},
   "source": [
    "The timestamp is stored as an object data type which is wrong. The text length is in a list."
   ]
  },
  {
   "cell_type": "code",
   "execution_count": 21,
   "id": "8d9feaae",
   "metadata": {
    "scrolled": true
   },
   "outputs": [
    {
     "data": {
      "text/plain": [
       "0    <a href=\"http://twitter.com/download/iphone\" r...\n",
       "1    <a href=\"http://twitter.com/download/iphone\" r...\n",
       "2    <a href=\"http://twitter.com/download/iphone\" r...\n",
       "3    <a href=\"http://twitter.com/download/iphone\" r...\n",
       "4    <a href=\"http://twitter.com/download/iphone\" r...\n",
       "Name: source, dtype: object"
      ]
     },
     "execution_count": 21,
     "metadata": {},
     "output_type": "execute_result"
    }
   ],
   "source": [
    "df_tweet[\"source\"].head()"
   ]
  },
  {
   "cell_type": "markdown",
   "id": "cd24ff45",
   "metadata": {},
   "source": [
    "The tweet source is in a url format."
   ]
  },
  {
   "cell_type": "code",
   "execution_count": 22,
   "id": "f447923b",
   "metadata": {},
   "outputs": [],
   "source": [
    "# copy of original df\n",
    "\n",
    "df_tweet_copy = df_tweet.copy()"
   ]
  },
  {
   "cell_type": "markdown",
   "id": "8d5696ac",
   "metadata": {},
   "source": [
    "#### Quality Issues <a class= \"anchor\" id= \"Quality_issues\"></a>\n",
    "\n",
    "* There are duplicate columns in the data\n",
    "* The data has missing enteries \n",
    "* None is used for null values inplace of standard NaN\n",
    "* Wrong datatype for certain columns\n",
    "* There are wrong values in the Name column\n",
    "* There are enteries for animals or objects that are not dogs\n",
    "* The denominator ratings column have values greater or lesser than 10 and the numerator ratings have value greater than 15\n",
    "* Extract the source name from the source column\n"
   ]
  },
  {
   "cell_type": "markdown",
   "id": "15b93a99",
   "metadata": {},
   "source": [
    "#### Tidiness Issues <a class= \"anchor\" id= \"Tidiness_issues\"></a>\n",
    "* Creating a single column for the dog age that is doggo, floofer, pupper, puppo\n",
    "* Extracting breed and confidence from prediction column\n",
    "* Creating a text number range column from display text range\n",
    "* Extracting weekday from timestamp column."
   ]
  },
  {
   "cell_type": "markdown",
   "id": "de985d20",
   "metadata": {},
   "source": [
    "### Cleaning <a class= \"anchor\" id= \"Cleaning\"></a>"
   ]
  },
  {
   "cell_type": "markdown",
   "id": "6ec5bd5e",
   "metadata": {},
   "source": [
    "**Replacing None With NaN**"
   ]
  },
  {
   "cell_type": "markdown",
   "id": "6c668c51",
   "metadata": {},
   "source": [
    "**Define :** Some columns contain None as an indicator of a Missing value. These columns except the dog age columns will be replaced with NaN the standard representation of missing values."
   ]
  },
  {
   "cell_type": "markdown",
   "id": "fa24de82",
   "metadata": {},
   "source": [
    "**Code**"
   ]
  },
  {
   "cell_type": "code",
   "execution_count": 23,
   "id": "bf6c6a56",
   "metadata": {},
   "outputs": [],
   "source": [
    "age_col = [\"pupper\", \"doggo\", \"floofer\", \"puppo\"]\n",
    "\n",
    "for col in age_col:\n",
    "    df_tweet[col].replace(\"None\",\"\", inplace = True)"
   ]
  },
  {
   "cell_type": "code",
   "execution_count": 24,
   "id": "a29c68dd",
   "metadata": {
    "scrolled": false
   },
   "outputs": [],
   "source": [
    "df_clean = df_tweet.replace(to_replace = \"None\", value = np.nan)\n"
   ]
  },
  {
   "cell_type": "markdown",
   "id": "905e60a5",
   "metadata": {},
   "source": [
    "**Test**"
   ]
  },
  {
   "cell_type": "code",
   "execution_count": 25,
   "id": "c9e913d4",
   "metadata": {},
   "outputs": [
    {
     "name": "stdout",
     "output_type": "stream",
     "text": [
      "<class 'pandas.core.frame.DataFrame'>\n",
      "Int64Index: 2354 entries, 0 to 2353\n",
      "Data columns (total 59 columns):\n",
      " #   Column                         Non-Null Count  Dtype  \n",
      "---  ------                         --------------  -----  \n",
      " 0   tweet_id                       2354 non-null   int64  \n",
      " 1   in_reply_to_status_id          78 non-null     float64\n",
      " 2   in_reply_to_user_id            78 non-null     float64\n",
      " 3   timestamp                      2354 non-null   object \n",
      " 4   source                         2354 non-null   object \n",
      " 5   text                           2354 non-null   object \n",
      " 6   retweeted_status_id            179 non-null    float64\n",
      " 7   retweeted_status_user_id       179 non-null    float64\n",
      " 8   retweeted_status_timestamp     179 non-null    object \n",
      " 9   expanded_urls                  2295 non-null   object \n",
      " 10  rating_numerator               2354 non-null   int64  \n",
      " 11  rating_denominator             2354 non-null   int64  \n",
      " 12  name                           2354 non-null   object \n",
      " 13  doggo                          2354 non-null   object \n",
      " 14  floofer                        2354 non-null   object \n",
      " 15  pupper                         2354 non-null   object \n",
      " 16  puppo                          2354 non-null   object \n",
      " 17  created_at                     2354 non-null   object \n",
      " 18  id                             2354 non-null   int64  \n",
      " 19  id_str                         2354 non-null   object \n",
      " 20  full_text                      2354 non-null   object \n",
      " 21  truncated                      2354 non-null   bool   \n",
      " 22  display_text_range             2354 non-null   object \n",
      " 23  entities                       2354 non-null   object \n",
      " 24  extended_entities              2073 non-null   object \n",
      " 25  source_api                     2354 non-null   object \n",
      " 26  in_reply_to_status_id_api      78 non-null     float64\n",
      " 27  in_reply_to_status_id_str      78 non-null     object \n",
      " 28  in_reply_to_user_id_api        78 non-null     float64\n",
      " 29  in_reply_to_user_id_str        78 non-null     object \n",
      " 30  in_reply_to_screen_name        78 non-null     object \n",
      " 31  user                           2354 non-null   object \n",
      " 32  geo                            0 non-null      object \n",
      " 33  coordinates                    0 non-null      object \n",
      " 34  place                          1 non-null      object \n",
      " 35  contributors                   0 non-null      object \n",
      " 36  is_quote_status                2354 non-null   bool   \n",
      " 37  retweet_count                  2354 non-null   int64  \n",
      " 38  favorite_count                 2354 non-null   int64  \n",
      " 39  favorited                      2354 non-null   bool   \n",
      " 40  retweeted                      2354 non-null   bool   \n",
      " 41  possibly_sensitive             2211 non-null   object \n",
      " 42  possibly_sensitive_appealable  2211 non-null   object \n",
      " 43  lang                           2354 non-null   object \n",
      " 44  retweeted_status               179 non-null    object \n",
      " 45  quoted_status_id               29 non-null     float64\n",
      " 46  quoted_status_id_str           29 non-null     object \n",
      " 47  quoted_status                  28 non-null     object \n",
      " 48  jpg_url                        2073 non-null   object \n",
      " 49  img_num                        2073 non-null   float64\n",
      " 50  p1                             2073 non-null   object \n",
      " 51  p1_conf                        2073 non-null   float64\n",
      " 52  p1_dog                         2073 non-null   object \n",
      " 53  p2                             2073 non-null   object \n",
      " 54  p2_conf                        2073 non-null   float64\n",
      " 55  p2_dog                         2073 non-null   object \n",
      " 56  p3                             2073 non-null   object \n",
      " 57  p3_conf                        2073 non-null   float64\n",
      " 58  p3_dog                         2073 non-null   object \n",
      "dtypes: bool(4), float64(11), int64(6), object(38)\n",
      "memory usage: 1.0+ MB\n"
     ]
    }
   ],
   "source": [
    "df_tweet.info()"
   ]
  },
  {
   "cell_type": "markdown",
   "id": "5b5f68c9",
   "metadata": {},
   "source": [
    "**Age Stage column**"
   ]
  },
  {
   "cell_type": "markdown",
   "id": "904444fe",
   "metadata": {},
   "source": [
    "**Define:** This column will be created from combining the different age columns, puppo,floofer,doggo,pupper."
   ]
  },
  {
   "cell_type": "code",
   "execution_count": 26,
   "id": "b6c62082",
   "metadata": {
    "scrolled": true
   },
   "outputs": [
    {
     "data": {
      "text/plain": [
       "array(['', 'pupper'], dtype=object)"
      ]
     },
     "execution_count": 26,
     "metadata": {},
     "output_type": "execute_result"
    }
   ],
   "source": [
    "df_clean[\"pupper\"].unique()"
   ]
  },
  {
   "cell_type": "code",
   "execution_count": 27,
   "id": "d0a6f709",
   "metadata": {
    "scrolled": false
   },
   "outputs": [],
   "source": [
    "df_clean[\"Age_stage\"] = df_clean[\"pupper\"]  + df_clean[\"doggo\"] + df_clean[\"puppo\"] + df_clean[\"floofer\"]\n"
   ]
  },
  {
   "cell_type": "markdown",
   "id": "50f4f315",
   "metadata": {},
   "source": [
    "**Test**"
   ]
  },
  {
   "cell_type": "code",
   "execution_count": 28,
   "id": "276dfe36",
   "metadata": {},
   "outputs": [
    {
     "data": {
      "text/plain": [
       "                1975\n",
       "pupper           244\n",
       "doggo             83\n",
       "puppo             29\n",
       "pupperdoggo       12\n",
       "floofer            9\n",
       "doggopuppo         1\n",
       "doggofloofer       1\n",
       "Name: Age_stage, dtype: int64"
      ]
     },
     "execution_count": 28,
     "metadata": {},
     "output_type": "execute_result"
    }
   ],
   "source": [
    "df_clean[\"Age_stage\"].value_counts()"
   ]
  },
  {
   "cell_type": "markdown",
   "id": "e3c0a826",
   "metadata": {},
   "source": [
    "**Subsetting dataframe**"
   ]
  },
  {
   "cell_type": "markdown",
   "id": "c45a460a",
   "metadata": {},
   "source": [
    "**Define:** Data enteries that are retweets or replies of  WeRateDogs tweets will be removed. To have dataframe that contains only information of tweets that are dogs, the dataframe will be subset using the jpg_url and predictions columns."
   ]
  },
  {
   "cell_type": "markdown",
   "id": "3c9c054b",
   "metadata": {},
   "source": [
    "**Code**"
   ]
  },
  {
   "cell_type": "code",
   "execution_count": 29,
   "id": "735b0e5c",
   "metadata": {},
   "outputs": [],
   "source": [
    "df_clean[\"jpg_url\"].dropna(inplace = True)"
   ]
  },
  {
   "cell_type": "code",
   "execution_count": 30,
   "id": "ad9bb3d5",
   "metadata": {},
   "outputs": [],
   "source": [
    "df_clean.drop(df_clean.query(\"p1_dog == False and p2_dog == False and p3_dog == False\").index, inplace = True)\n",
    "\n"
   ]
  },
  {
   "cell_type": "code",
   "execution_count": 31,
   "id": "c6e18fb1",
   "metadata": {
    "scrolled": true
   },
   "outputs": [],
   "source": [
    "df_clean = df_clean[df_clean[\"in_reply_to_status_id\"].isnull()]\n",
    "df_clean = df_clean[df_clean[\"retweeted_status_user_id\"].isnull()]"
   ]
  },
  {
   "cell_type": "markdown",
   "id": "d85bea81",
   "metadata": {},
   "source": [
    "**Test**"
   ]
  },
  {
   "cell_type": "code",
   "execution_count": 32,
   "id": "91a7a4d2",
   "metadata": {},
   "outputs": [
    {
     "name": "stdout",
     "output_type": "stream",
     "text": [
      "(1792, 60)\n",
      "<class 'pandas.core.frame.DataFrame'>\n",
      "Int64Index: 1792 entries, 1 to 2353\n",
      "Data columns (total 60 columns):\n",
      " #   Column                         Non-Null Count  Dtype  \n",
      "---  ------                         --------------  -----  \n",
      " 0   tweet_id                       1792 non-null   int64  \n",
      " 1   in_reply_to_status_id          0 non-null      float64\n",
      " 2   in_reply_to_user_id            0 non-null      float64\n",
      " 3   timestamp                      1792 non-null   object \n",
      " 4   source                         1792 non-null   object \n",
      " 5   text                           1792 non-null   object \n",
      " 6   retweeted_status_id            0 non-null      float64\n",
      " 7   retweeted_status_user_id       0 non-null      float64\n",
      " 8   retweeted_status_timestamp     0 non-null      object \n",
      " 9   expanded_urls                  1789 non-null   object \n",
      " 10  rating_numerator               1792 non-null   int64  \n",
      " 11  rating_denominator             1792 non-null   int64  \n",
      " 12  name                           1313 non-null   object \n",
      " 13  doggo                          1792 non-null   object \n",
      " 14  floofer                        1792 non-null   object \n",
      " 15  pupper                         1792 non-null   object \n",
      " 16  puppo                          1792 non-null   object \n",
      " 17  created_at                     1792 non-null   object \n",
      " 18  id                             1792 non-null   int64  \n",
      " 19  id_str                         1792 non-null   object \n",
      " 20  full_text                      1792 non-null   object \n",
      " 21  truncated                      1792 non-null   bool   \n",
      " 22  display_text_range             1792 non-null   object \n",
      " 23  entities                       1792 non-null   object \n",
      " 24  extended_entities              1666 non-null   object \n",
      " 25  source_api                     1792 non-null   object \n",
      " 26  in_reply_to_status_id_api      0 non-null      float64\n",
      " 27  in_reply_to_status_id_str      0 non-null      object \n",
      " 28  in_reply_to_user_id_api        0 non-null      float64\n",
      " 29  in_reply_to_user_id_str        0 non-null      object \n",
      " 30  in_reply_to_screen_name        0 non-null      object \n",
      " 31  user                           1792 non-null   object \n",
      " 32  geo                            0 non-null      object \n",
      " 33  coordinates                    0 non-null      object \n",
      " 34  place                          1 non-null      object \n",
      " 35  contributors                   0 non-null      object \n",
      " 36  is_quote_status                1792 non-null   bool   \n",
      " 37  retweet_count                  1792 non-null   int64  \n",
      " 38  favorite_count                 1792 non-null   int64  \n",
      " 39  favorited                      1792 non-null   bool   \n",
      " 40  retweeted                      1792 non-null   bool   \n",
      " 41  possibly_sensitive             1789 non-null   object \n",
      " 42  possibly_sensitive_appealable  1789 non-null   object \n",
      " 43  lang                           1792 non-null   object \n",
      " 44  retweeted_status               0 non-null      object \n",
      " 45  quoted_status_id               28 non-null     float64\n",
      " 46  quoted_status_id_str           28 non-null     object \n",
      " 47  quoted_status                  28 non-null     object \n",
      " 48  jpg_url                        1666 non-null   object \n",
      " 49  img_num                        1666 non-null   float64\n",
      " 50  p1                             1666 non-null   object \n",
      " 51  p1_conf                        1666 non-null   float64\n",
      " 52  p1_dog                         1666 non-null   object \n",
      " 53  p2                             1666 non-null   object \n",
      " 54  p2_conf                        1666 non-null   float64\n",
      " 55  p2_dog                         1666 non-null   object \n",
      " 56  p3                             1666 non-null   object \n",
      " 57  p3_conf                        1666 non-null   float64\n",
      " 58  p3_dog                         1666 non-null   object \n",
      " 59  Age_stage                      1792 non-null   object \n",
      "dtypes: bool(4), float64(11), int64(6), object(39)\n",
      "memory usage: 805.0+ KB\n"
     ]
    }
   ],
   "source": [
    "print(df_clean.shape)\n",
    "df_clean.info()"
   ]
  },
  {
   "cell_type": "markdown",
   "id": "b7a907f6",
   "metadata": {},
   "source": [
    "**Invalid Names**"
   ]
  },
  {
   "cell_type": "markdown",
   "id": "49e67314",
   "metadata": {},
   "source": [
    "**Define:** In the name column, there are values like \"a\" and \"the\" which are not names. This values will be converted to NaN values. "
   ]
  },
  {
   "cell_type": "code",
   "execution_count": 33,
   "id": "f7b92016",
   "metadata": {
    "scrolled": true
   },
   "outputs": [
    {
     "data": {
      "text/plain": [
       "['such',\n",
       " 'a',\n",
       " 'quite',\n",
       " 'not',\n",
       " 'one',\n",
       " 'incredibly',\n",
       " 'mad',\n",
       " 'an',\n",
       " 'very',\n",
       " 'just',\n",
       " 'my',\n",
       " 'his',\n",
       " 'actually',\n",
       " 'getting',\n",
       " 'this',\n",
       " 'unacceptable',\n",
       " 'all',\n",
       " 'old',\n",
       " 'infuriating',\n",
       " 'the',\n",
       " 'by',\n",
       " 'officially',\n",
       " 'life',\n",
       " 'light',\n",
       " 'space']"
      ]
     },
     "execution_count": 33,
     "metadata": {},
     "output_type": "execute_result"
    }
   ],
   "source": [
    "# finding the wrong names\n",
    "\n",
    "wrong_name = []\n",
    "for val in df_tweet[\"name\"].values:\n",
    "    if val.islower() == True:\n",
    "        if val not in wrong_name:\n",
    "            wrong_name.append(val)\n",
    "wrong_name "
   ]
  },
  {
   "cell_type": "markdown",
   "id": "2fbf5c70",
   "metadata": {},
   "source": [
    "**Code**"
   ]
  },
  {
   "cell_type": "code",
   "execution_count": 34,
   "id": "9c085224",
   "metadata": {
    "scrolled": false
   },
   "outputs": [
    {
     "data": {
      "text/plain": [
       "Lucy       11\n",
       "Charlie    10\n",
       "Cooper     10\n",
       "Oliver      9\n",
       "Tucker      9\n",
       "Penny       8\n",
       "Daisy       7\n",
       "Sadie       7\n",
       "Winston     7\n",
       "Lola        7\n",
       "Name: name, dtype: int64"
      ]
     },
     "execution_count": 34,
     "metadata": {},
     "output_type": "execute_result"
    }
   ],
   "source": [
    "# replacing invalid names with nan\n",
    "\n",
    "df_clean[\"name\"].replace(wrong_name, np.nan, inplace = True)\n",
    "df_clean[\"name\"].value_counts()[:10]"
   ]
  },
  {
   "cell_type": "markdown",
   "id": "47929c7c",
   "metadata": {},
   "source": [
    "**Test**"
   ]
  },
  {
   "cell_type": "code",
   "execution_count": 35,
   "id": "3344d77c",
   "metadata": {},
   "outputs": [
    {
     "name": "stdout",
     "output_type": "stream",
     "text": [
      "<class 'pandas.core.frame.DataFrame'>\n",
      "Int64Index: 1792 entries, 1 to 2353\n",
      "Data columns (total 60 columns):\n",
      " #   Column                         Non-Null Count  Dtype  \n",
      "---  ------                         --------------  -----  \n",
      " 0   tweet_id                       1792 non-null   int64  \n",
      " 1   in_reply_to_status_id          0 non-null      float64\n",
      " 2   in_reply_to_user_id            0 non-null      float64\n",
      " 3   timestamp                      1792 non-null   object \n",
      " 4   source                         1792 non-null   object \n",
      " 5   text                           1792 non-null   object \n",
      " 6   retweeted_status_id            0 non-null      float64\n",
      " 7   retweeted_status_user_id       0 non-null      float64\n",
      " 8   retweeted_status_timestamp     0 non-null      object \n",
      " 9   expanded_urls                  1789 non-null   object \n",
      " 10  rating_numerator               1792 non-null   int64  \n",
      " 11  rating_denominator             1792 non-null   int64  \n",
      " 12  name                           1227 non-null   object \n",
      " 13  doggo                          1792 non-null   object \n",
      " 14  floofer                        1792 non-null   object \n",
      " 15  pupper                         1792 non-null   object \n",
      " 16  puppo                          1792 non-null   object \n",
      " 17  created_at                     1792 non-null   object \n",
      " 18  id                             1792 non-null   int64  \n",
      " 19  id_str                         1792 non-null   object \n",
      " 20  full_text                      1792 non-null   object \n",
      " 21  truncated                      1792 non-null   bool   \n",
      " 22  display_text_range             1792 non-null   object \n",
      " 23  entities                       1792 non-null   object \n",
      " 24  extended_entities              1666 non-null   object \n",
      " 25  source_api                     1792 non-null   object \n",
      " 26  in_reply_to_status_id_api      0 non-null      float64\n",
      " 27  in_reply_to_status_id_str      0 non-null      object \n",
      " 28  in_reply_to_user_id_api        0 non-null      float64\n",
      " 29  in_reply_to_user_id_str        0 non-null      object \n",
      " 30  in_reply_to_screen_name        0 non-null      object \n",
      " 31  user                           1792 non-null   object \n",
      " 32  geo                            0 non-null      object \n",
      " 33  coordinates                    0 non-null      object \n",
      " 34  place                          1 non-null      object \n",
      " 35  contributors                   0 non-null      object \n",
      " 36  is_quote_status                1792 non-null   bool   \n",
      " 37  retweet_count                  1792 non-null   int64  \n",
      " 38  favorite_count                 1792 non-null   int64  \n",
      " 39  favorited                      1792 non-null   bool   \n",
      " 40  retweeted                      1792 non-null   bool   \n",
      " 41  possibly_sensitive             1789 non-null   object \n",
      " 42  possibly_sensitive_appealable  1789 non-null   object \n",
      " 43  lang                           1792 non-null   object \n",
      " 44  retweeted_status               0 non-null      object \n",
      " 45  quoted_status_id               28 non-null     float64\n",
      " 46  quoted_status_id_str           28 non-null     object \n",
      " 47  quoted_status                  28 non-null     object \n",
      " 48  jpg_url                        1666 non-null   object \n",
      " 49  img_num                        1666 non-null   float64\n",
      " 50  p1                             1666 non-null   object \n",
      " 51  p1_conf                        1666 non-null   float64\n",
      " 52  p1_dog                         1666 non-null   object \n",
      " 53  p2                             1666 non-null   object \n",
      " 54  p2_conf                        1666 non-null   float64\n",
      " 55  p2_dog                         1666 non-null   object \n",
      " 56  p3                             1666 non-null   object \n",
      " 57  p3_conf                        1666 non-null   float64\n",
      " 58  p3_dog                         1666 non-null   object \n",
      " 59  Age_stage                      1792 non-null   object \n",
      "dtypes: bool(4), float64(11), int64(6), object(39)\n",
      "memory usage: 805.0+ KB\n"
     ]
    }
   ],
   "source": [
    "df_clean.info()"
   ]
  },
  {
   "cell_type": "markdown",
   "id": "802fc698",
   "metadata": {},
   "source": [
    "The NaN value in the Name column has increased"
   ]
  },
  {
   "cell_type": "markdown",
   "id": "cdc9efeb",
   "metadata": {},
   "source": [
    "**Missing Data**"
   ]
  },
  {
   "cell_type": "markdown",
   "id": "c5a7bc43",
   "metadata": {},
   "source": [
    "**Define:** Columns will low data enteries will be dropped. The threshold for the available dataw will be 1000 ie columns will less than 1000 available data will be dropped."
   ]
  },
  {
   "cell_type": "markdown",
   "id": "874197ca",
   "metadata": {},
   "source": [
    "**Test**"
   ]
  },
  {
   "cell_type": "code",
   "execution_count": 36,
   "id": "1b0c8b34",
   "metadata": {
    "scrolled": false
   },
   "outputs": [],
   "source": [
    "df_clean.dropna(axis = 1, thresh = 1000, inplace = True)\n"
   ]
  },
  {
   "cell_type": "markdown",
   "id": "0101a02d",
   "metadata": {},
   "source": [
    "**Test**"
   ]
  },
  {
   "cell_type": "code",
   "execution_count": 37,
   "id": "58b6b358",
   "metadata": {},
   "outputs": [
    {
     "name": "stdout",
     "output_type": "stream",
     "text": [
      "<class 'pandas.core.frame.DataFrame'>\n",
      "Int64Index: 1792 entries, 1 to 2353\n",
      "Data columns (total 42 columns):\n",
      " #   Column                         Non-Null Count  Dtype  \n",
      "---  ------                         --------------  -----  \n",
      " 0   tweet_id                       1792 non-null   int64  \n",
      " 1   timestamp                      1792 non-null   object \n",
      " 2   source                         1792 non-null   object \n",
      " 3   text                           1792 non-null   object \n",
      " 4   expanded_urls                  1789 non-null   object \n",
      " 5   rating_numerator               1792 non-null   int64  \n",
      " 6   rating_denominator             1792 non-null   int64  \n",
      " 7   name                           1227 non-null   object \n",
      " 8   doggo                          1792 non-null   object \n",
      " 9   floofer                        1792 non-null   object \n",
      " 10  pupper                         1792 non-null   object \n",
      " 11  puppo                          1792 non-null   object \n",
      " 12  created_at                     1792 non-null   object \n",
      " 13  id                             1792 non-null   int64  \n",
      " 14  id_str                         1792 non-null   object \n",
      " 15  full_text                      1792 non-null   object \n",
      " 16  truncated                      1792 non-null   bool   \n",
      " 17  display_text_range             1792 non-null   object \n",
      " 18  entities                       1792 non-null   object \n",
      " 19  extended_entities              1666 non-null   object \n",
      " 20  source_api                     1792 non-null   object \n",
      " 21  user                           1792 non-null   object \n",
      " 22  is_quote_status                1792 non-null   bool   \n",
      " 23  retweet_count                  1792 non-null   int64  \n",
      " 24  favorite_count                 1792 non-null   int64  \n",
      " 25  favorited                      1792 non-null   bool   \n",
      " 26  retweeted                      1792 non-null   bool   \n",
      " 27  possibly_sensitive             1789 non-null   object \n",
      " 28  possibly_sensitive_appealable  1789 non-null   object \n",
      " 29  lang                           1792 non-null   object \n",
      " 30  jpg_url                        1666 non-null   object \n",
      " 31  img_num                        1666 non-null   float64\n",
      " 32  p1                             1666 non-null   object \n",
      " 33  p1_conf                        1666 non-null   float64\n",
      " 34  p1_dog                         1666 non-null   object \n",
      " 35  p2                             1666 non-null   object \n",
      " 36  p2_conf                        1666 non-null   float64\n",
      " 37  p2_dog                         1666 non-null   object \n",
      " 38  p3                             1666 non-null   object \n",
      " 39  p3_conf                        1666 non-null   float64\n",
      " 40  p3_dog                         1666 non-null   object \n",
      " 41  Age_stage                      1792 non-null   object \n",
      "dtypes: bool(4), float64(4), int64(6), object(28)\n",
      "memory usage: 553.0+ KB\n"
     ]
    }
   ],
   "source": [
    "df_clean.info()"
   ]
  },
  {
   "cell_type": "markdown",
   "id": "ceee5793",
   "metadata": {},
   "source": [
    "**Duplicate Columns**"
   ]
  },
  {
   "cell_type": "markdown",
   "id": "26c5646a",
   "metadata": {},
   "source": [
    "**Define:** There are duplicated columns in the final dataframe gotten from merging all three dataframe and the columns with different names but duplicated contents. These issue will be solved by dropping the duplicated columns. A function will be used to identify the duplicated columns"
   ]
  },
  {
   "cell_type": "markdown",
   "id": "0c43ec54",
   "metadata": {},
   "source": [
    "**Code**"
   ]
  },
  {
   "cell_type": "code",
   "execution_count": 38,
   "id": "2786eaaf",
   "metadata": {},
   "outputs": [],
   "source": [
    "def DuplicateColumns(df):\n",
    "    \"\"\"\n",
    "    Findings columns that are duplicated\n",
    "    \n",
    "    \"\"\"\n",
    "    duplicate_columns = list()\n",
    "    for col_no in range(df.shape[1]):\n",
    "        col = df.iloc[:, col_no]\n",
    "        \n",
    "        \n",
    "        for newcol_no in range(col_no + 1, df.shape[1]):\n",
    "            new_col = df.iloc[:, newcol_no]\n",
    "            \n",
    "            if col.equals(new_col):\n",
    "                \n",
    "                duplicate_columns.append(df.columns.values[newcol_no])\n",
    "    return duplicate_columns"
   ]
  },
  {
   "cell_type": "code",
   "execution_count": 39,
   "id": "e117a942",
   "metadata": {
    "scrolled": true
   },
   "outputs": [
    {
     "name": "stdout",
     "output_type": "stream",
     "text": [
      "<class 'pandas.core.frame.DataFrame'>\n",
      "Int64Index: 1792 entries, 1 to 2353\n",
      "Data columns (total 37 columns):\n",
      " #   Column              Non-Null Count  Dtype  \n",
      "---  ------              --------------  -----  \n",
      " 0   tweet_id            1792 non-null   int64  \n",
      " 1   timestamp           1792 non-null   object \n",
      " 2   source              1792 non-null   object \n",
      " 3   text                1792 non-null   object \n",
      " 4   expanded_urls       1789 non-null   object \n",
      " 5   rating_numerator    1792 non-null   int64  \n",
      " 6   rating_denominator  1792 non-null   int64  \n",
      " 7   name                1227 non-null   object \n",
      " 8   doggo               1792 non-null   object \n",
      " 9   floofer             1792 non-null   object \n",
      " 10  pupper              1792 non-null   object \n",
      " 11  puppo               1792 non-null   object \n",
      " 12  created_at          1792 non-null   object \n",
      " 13  id_str              1792 non-null   object \n",
      " 14  truncated           1792 non-null   bool   \n",
      " 15  display_text_range  1792 non-null   object \n",
      " 16  entities            1792 non-null   object \n",
      " 17  extended_entities   1666 non-null   object \n",
      " 18  user                1792 non-null   object \n",
      " 19  is_quote_status     1792 non-null   bool   \n",
      " 20  retweet_count       1792 non-null   int64  \n",
      " 21  favorite_count      1792 non-null   int64  \n",
      " 22  favorited           1792 non-null   bool   \n",
      " 23  possibly_sensitive  1789 non-null   object \n",
      " 24  lang                1792 non-null   object \n",
      " 25  jpg_url             1666 non-null   object \n",
      " 26  img_num             1666 non-null   float64\n",
      " 27  p1                  1666 non-null   object \n",
      " 28  p1_conf             1666 non-null   float64\n",
      " 29  p1_dog              1666 non-null   object \n",
      " 30  p2                  1666 non-null   object \n",
      " 31  p2_conf             1666 non-null   float64\n",
      " 32  p2_dog              1666 non-null   object \n",
      " 33  p3                  1666 non-null   object \n",
      " 34  p3_conf             1666 non-null   float64\n",
      " 35  p3_dog              1666 non-null   object \n",
      " 36  Age_stage           1792 non-null   object \n",
      "dtypes: bool(3), float64(4), int64(5), object(25)\n",
      "memory usage: 495.2+ KB\n"
     ]
    }
   ],
   "source": [
    "dup_columns = DuplicateColumns(df_clean)\n",
    "\n",
    "# dropping columns\n",
    "df_clean .drop(columns = dup_columns, inplace = True)\n",
    "df_clean.info()"
   ]
  },
  {
   "cell_type": "code",
   "execution_count": 40,
   "id": "8b7108f1",
   "metadata": {},
   "outputs": [],
   "source": [
    "df_clean.drop(columns = [\"lang\", \"id_str\", \"created_at\", \"possibly_sensitive\",\"entities\",\"extended_entities\",\"puppo\",\n",
    "                      \"doggo\", \"floofer\", \"pupper\", \"user\",\"truncated\", \"jpg_url\", \"img_num\"], inplace = True)"
   ]
  },
  {
   "cell_type": "markdown",
   "id": "54891a68",
   "metadata": {},
   "source": [
    "**Test**"
   ]
  },
  {
   "cell_type": "code",
   "execution_count": 41,
   "id": "3511bbf1",
   "metadata": {
    "scrolled": true
   },
   "outputs": [
    {
     "name": "stdout",
     "output_type": "stream",
     "text": [
      "<class 'pandas.core.frame.DataFrame'>\n",
      "Int64Index: 1792 entries, 1 to 2353\n",
      "Data columns (total 23 columns):\n",
      " #   Column              Non-Null Count  Dtype  \n",
      "---  ------              --------------  -----  \n",
      " 0   tweet_id            1792 non-null   int64  \n",
      " 1   timestamp           1792 non-null   object \n",
      " 2   source              1792 non-null   object \n",
      " 3   text                1792 non-null   object \n",
      " 4   expanded_urls       1789 non-null   object \n",
      " 5   rating_numerator    1792 non-null   int64  \n",
      " 6   rating_denominator  1792 non-null   int64  \n",
      " 7   name                1227 non-null   object \n",
      " 8   display_text_range  1792 non-null   object \n",
      " 9   is_quote_status     1792 non-null   bool   \n",
      " 10  retweet_count       1792 non-null   int64  \n",
      " 11  favorite_count      1792 non-null   int64  \n",
      " 12  favorited           1792 non-null   bool   \n",
      " 13  p1                  1666 non-null   object \n",
      " 14  p1_conf             1666 non-null   float64\n",
      " 15  p1_dog              1666 non-null   object \n",
      " 16  p2                  1666 non-null   object \n",
      " 17  p2_conf             1666 non-null   float64\n",
      " 18  p2_dog              1666 non-null   object \n",
      " 19  p3                  1666 non-null   object \n",
      " 20  p3_conf             1666 non-null   float64\n",
      " 21  p3_dog              1666 non-null   object \n",
      " 22  Age_stage           1792 non-null   object \n",
      "dtypes: bool(2), float64(3), int64(5), object(13)\n",
      "memory usage: 311.5+ KB\n"
     ]
    }
   ],
   "source": [
    "\n",
    "df_clean.info()"
   ]
  },
  {
   "cell_type": "markdown",
   "id": "cbef4eed",
   "metadata": {},
   "source": [
    "**Correcting the Ratings**"
   ]
  },
  {
   "cell_type": "markdown",
   "id": "1141493d",
   "metadata": {},
   "source": [
    "**Define:** The denominator ratings higher than 10 will be replaced with 10. The last digit is removed for numerator ratings that have more than 2 digits."
   ]
  },
  {
   "cell_type": "markdown",
   "id": "c32df9ff",
   "metadata": {},
   "source": [
    "**Code**"
   ]
  },
  {
   "cell_type": "code",
   "execution_count": 42,
   "id": "3b652f3b",
   "metadata": {},
   "outputs": [],
   "source": [
    "# removing 3rd digits from numerator ratings\n",
    "\n",
    "\n",
    "df_clean[\"rating_numerator\"] = df_clean[\"rating_numerator\"].astype(str).str[:2].astype(int)\n",
    "\n",
    "\n",
    "# dropping ratings higher than 15\n",
    "hratings=df_clean.query(\"rating_numerator > 15 \")\n",
    "df_clean.drop(hratings.index, inplace = True)\n",
    "\n"
   ]
  },
  {
   "cell_type": "code",
   "execution_count": 43,
   "id": "0b42220c",
   "metadata": {
    "scrolled": false
   },
   "outputs": [],
   "source": [
    "# replacings denominator ratings that are not equal 10 with 10\n",
    "d_ratings=df_clean.query(\"rating_denominator != 10\")\n",
    "\n",
    "# function to get numbers in the denominator that are not equal to 10\n",
    "high_denom = []\n",
    "for val in df_clean[\"rating_denominator\"].values:\n",
    "    if val != 10:\n",
    "        if val not in high_denom:\n",
    "            high_denom.append(val)\n",
    "            \n",
    "# replacing these numbers\n",
    "df_clean[\"rating_denominator\"].replace(high_denom, 10, inplace = True)"
   ]
  },
  {
   "cell_type": "code",
   "execution_count": 44,
   "id": "338c3d2c",
   "metadata": {
    "scrolled": true
   },
   "outputs": [],
   "source": [
    "# merging the ratings column into one column\n",
    "\n",
    "df_clean[\"ratings\"] = df_clean[\"rating_numerator\"]/df_clean[\"rating_denominator\"]\n"
   ]
  },
  {
   "cell_type": "markdown",
   "id": "e6bb8e81",
   "metadata": {},
   "source": [
    "**Test**"
   ]
  },
  {
   "cell_type": "code",
   "execution_count": 45,
   "id": "5edacd3a",
   "metadata": {
    "scrolled": true
   },
   "outputs": [
    {
     "data": {
      "text/html": [
       "<div>\n",
       "<style scoped>\n",
       "    .dataframe tbody tr th:only-of-type {\n",
       "        vertical-align: middle;\n",
       "    }\n",
       "\n",
       "    .dataframe tbody tr th {\n",
       "        vertical-align: top;\n",
       "    }\n",
       "\n",
       "    .dataframe thead th {\n",
       "        text-align: right;\n",
       "    }\n",
       "</style>\n",
       "<table border=\"1\" class=\"dataframe\">\n",
       "  <thead>\n",
       "    <tr style=\"text-align: right;\">\n",
       "      <th></th>\n",
       "      <th>tweet_id</th>\n",
       "      <th>timestamp</th>\n",
       "      <th>source</th>\n",
       "      <th>text</th>\n",
       "      <th>expanded_urls</th>\n",
       "      <th>rating_numerator</th>\n",
       "      <th>rating_denominator</th>\n",
       "      <th>name</th>\n",
       "      <th>display_text_range</th>\n",
       "      <th>is_quote_status</th>\n",
       "      <th>...</th>\n",
       "      <th>p1_conf</th>\n",
       "      <th>p1_dog</th>\n",
       "      <th>p2</th>\n",
       "      <th>p2_conf</th>\n",
       "      <th>p2_dog</th>\n",
       "      <th>p3</th>\n",
       "      <th>p3_conf</th>\n",
       "      <th>p3_dog</th>\n",
       "      <th>Age_stage</th>\n",
       "      <th>ratings</th>\n",
       "    </tr>\n",
       "  </thead>\n",
       "  <tbody>\n",
       "  </tbody>\n",
       "</table>\n",
       "<p>0 rows × 24 columns</p>\n",
       "</div>"
      ],
      "text/plain": [
       "Empty DataFrame\n",
       "Columns: [tweet_id, timestamp, source, text, expanded_urls, rating_numerator, rating_denominator, name, display_text_range, is_quote_status, retweet_count, favorite_count, favorited, p1, p1_conf, p1_dog, p2, p2_conf, p2_dog, p3, p3_conf, p3_dog, Age_stage, ratings]\n",
       "Index: []\n",
       "\n",
       "[0 rows x 24 columns]"
      ]
     },
     "execution_count": 45,
     "metadata": {},
     "output_type": "execute_result"
    }
   ],
   "source": [
    "df_clean.query(\"rating_numerator > 15\")"
   ]
  },
  {
   "cell_type": "code",
   "execution_count": 46,
   "id": "f9576f05",
   "metadata": {},
   "outputs": [
    {
     "data": {
      "text/html": [
       "<div>\n",
       "<style scoped>\n",
       "    .dataframe tbody tr th:only-of-type {\n",
       "        vertical-align: middle;\n",
       "    }\n",
       "\n",
       "    .dataframe tbody tr th {\n",
       "        vertical-align: top;\n",
       "    }\n",
       "\n",
       "    .dataframe thead th {\n",
       "        text-align: right;\n",
       "    }\n",
       "</style>\n",
       "<table border=\"1\" class=\"dataframe\">\n",
       "  <thead>\n",
       "    <tr style=\"text-align: right;\">\n",
       "      <th></th>\n",
       "      <th>tweet_id</th>\n",
       "      <th>timestamp</th>\n",
       "      <th>source</th>\n",
       "      <th>text</th>\n",
       "      <th>expanded_urls</th>\n",
       "      <th>rating_numerator</th>\n",
       "      <th>rating_denominator</th>\n",
       "      <th>name</th>\n",
       "      <th>display_text_range</th>\n",
       "      <th>is_quote_status</th>\n",
       "      <th>...</th>\n",
       "      <th>p1_conf</th>\n",
       "      <th>p1_dog</th>\n",
       "      <th>p2</th>\n",
       "      <th>p2_conf</th>\n",
       "      <th>p2_dog</th>\n",
       "      <th>p3</th>\n",
       "      <th>p3_conf</th>\n",
       "      <th>p3_dog</th>\n",
       "      <th>Age_stage</th>\n",
       "      <th>ratings</th>\n",
       "    </tr>\n",
       "  </thead>\n",
       "  <tbody>\n",
       "  </tbody>\n",
       "</table>\n",
       "<p>0 rows × 24 columns</p>\n",
       "</div>"
      ],
      "text/plain": [
       "Empty DataFrame\n",
       "Columns: [tweet_id, timestamp, source, text, expanded_urls, rating_numerator, rating_denominator, name, display_text_range, is_quote_status, retweet_count, favorite_count, favorited, p1, p1_conf, p1_dog, p2, p2_conf, p2_dog, p3, p3_conf, p3_dog, Age_stage, ratings]\n",
       "Index: []\n",
       "\n",
       "[0 rows x 24 columns]"
      ]
     },
     "execution_count": 46,
     "metadata": {},
     "output_type": "execute_result"
    }
   ],
   "source": [
    "df_clean.query(\"rating_denominator != 10\")"
   ]
  },
  {
   "cell_type": "code",
   "execution_count": 47,
   "id": "4c875730",
   "metadata": {},
   "outputs": [
    {
     "data": {
      "text/html": [
       "<div>\n",
       "<style scoped>\n",
       "    .dataframe tbody tr th:only-of-type {\n",
       "        vertical-align: middle;\n",
       "    }\n",
       "\n",
       "    .dataframe tbody tr th {\n",
       "        vertical-align: top;\n",
       "    }\n",
       "\n",
       "    .dataframe thead th {\n",
       "        text-align: right;\n",
       "    }\n",
       "</style>\n",
       "<table border=\"1\" class=\"dataframe\">\n",
       "  <thead>\n",
       "    <tr style=\"text-align: right;\">\n",
       "      <th></th>\n",
       "      <th>ratings</th>\n",
       "    </tr>\n",
       "  </thead>\n",
       "  <tbody>\n",
       "    <tr>\n",
       "      <th>1</th>\n",
       "      <td>1.3</td>\n",
       "    </tr>\n",
       "    <tr>\n",
       "      <th>2</th>\n",
       "      <td>1.2</td>\n",
       "    </tr>\n",
       "    <tr>\n",
       "      <th>3</th>\n",
       "      <td>1.3</td>\n",
       "    </tr>\n",
       "    <tr>\n",
       "      <th>4</th>\n",
       "      <td>1.2</td>\n",
       "    </tr>\n",
       "    <tr>\n",
       "      <th>5</th>\n",
       "      <td>1.3</td>\n",
       "    </tr>\n",
       "  </tbody>\n",
       "</table>\n",
       "</div>"
      ],
      "text/plain": [
       "   ratings\n",
       "1      1.3\n",
       "2      1.2\n",
       "3      1.3\n",
       "4      1.2\n",
       "5      1.3"
      ]
     },
     "execution_count": 47,
     "metadata": {},
     "output_type": "execute_result"
    }
   ],
   "source": [
    "df_clean[[\"ratings\"]].head()"
   ]
  },
  {
   "cell_type": "markdown",
   "id": "b1144da5",
   "metadata": {},
   "source": [
    "**Source Column** \n"
   ]
  },
  {
   "cell_type": "markdown",
   "id": "085ff732",
   "metadata": {},
   "source": [
    "**Define:** The source name will be extracted from the source column"
   ]
  },
  {
   "cell_type": "markdown",
   "id": "7f234398",
   "metadata": {},
   "source": [
    "**Code**"
   ]
  },
  {
   "cell_type": "code",
   "execution_count": 48,
   "id": "43dbd944",
   "metadata": {},
   "outputs": [],
   "source": [
    "df_clean[\"source\"].replace('<a href=\"http://twitter.com/download/iphone\" rel=\"nofollow\">Twitter for iPhone</a>', \"Iphone\", inplace = True)\n",
    "df_clean[\"source\"].replace('<a href=\"http://vine.co\" rel=\"nofollow\">Vine - Make a Scene</a>', \"Vine\", inplace= True)\n",
    "df_clean[\"source\"].replace('<a href=\"http://twitter.com\" rel=\"nofollow\">Twitter Web Client</a>', \"Web\", inplace = True)\n",
    "df_clean[\"source\"].replace('<a href=\"https://about.twitter.com/products/tweetdeck\" rel=\"nofollow\">TweetDeck</a>', \"TweetDeck\", inplace = True)"
   ]
  },
  {
   "cell_type": "markdown",
   "id": "711d1ed5",
   "metadata": {},
   "source": [
    "**Test**"
   ]
  },
  {
   "cell_type": "code",
   "execution_count": 49,
   "id": "d1298793",
   "metadata": {
    "scrolled": true
   },
   "outputs": [
    {
     "data": {
      "text/plain": [
       "array(['Iphone', 'Web', 'Vine', 'TweetDeck'], dtype=object)"
      ]
     },
     "execution_count": 49,
     "metadata": {},
     "output_type": "execute_result"
    }
   ],
   "source": [
    "df_clean[\"source\"].unique()"
   ]
  },
  {
   "cell_type": "markdown",
   "id": "9aa8e84e",
   "metadata": {},
   "source": [
    "**Data Type**"
   ]
  },
  {
   "cell_type": "markdown",
   "id": "fb07b328",
   "metadata": {},
   "source": [
    "**Define:** Column with the wrong datatype like timestamp will be changed to the correct data type which is timestamp"
   ]
  },
  {
   "cell_type": "markdown",
   "id": "d78d10c2",
   "metadata": {},
   "source": [
    "**Code**"
   ]
  },
  {
   "cell_type": "code",
   "execution_count": 50,
   "id": "90ff2ecb",
   "metadata": {},
   "outputs": [],
   "source": [
    "df_clean[\"timestamp\"] =pd.to_datetime(df_clean[\"timestamp\"])"
   ]
  },
  {
   "cell_type": "code",
   "execution_count": 51,
   "id": "2e8abce1",
   "metadata": {},
   "outputs": [],
   "source": [
    "# creating weekday column\n",
    "\n",
    "df_clean[\"weekday\"] = df_clean[\"timestamp\"].dt.day_name()"
   ]
  },
  {
   "cell_type": "markdown",
   "id": "1280f4cd",
   "metadata": {},
   "source": [
    "**Test**"
   ]
  },
  {
   "cell_type": "code",
   "execution_count": 52,
   "id": "a2b0da7d",
   "metadata": {},
   "outputs": [
    {
     "data": {
      "text/plain": [
       "datetime64[ns, UTC]"
      ]
     },
     "execution_count": 52,
     "metadata": {},
     "output_type": "execute_result"
    }
   ],
   "source": [
    "df_clean[\"timestamp\"].dtype"
   ]
  },
  {
   "cell_type": "markdown",
   "id": "b245a9b5",
   "metadata": {},
   "source": [
    "**Breed and Confidence**"
   ]
  },
  {
   "cell_type": "markdown",
   "id": "72abbb4c",
   "metadata": {},
   "source": [
    "**Define:** The breed and confidence will be extracted from the columns that have information on the breed and confidence. The nine columns will be compressed into two columns."
   ]
  },
  {
   "cell_type": "markdown",
   "id": "64e1b531",
   "metadata": {},
   "source": [
    "**Code**"
   ]
  },
  {
   "cell_type": "code",
   "execution_count": 53,
   "id": "c7ee98e4",
   "metadata": {
    "scrolled": false
   },
   "outputs": [
    {
     "name": "stdout",
     "output_type": "stream",
     "text": [
      "<class 'pandas.core.frame.DataFrame'>\n",
      "Int64Index: 1779 entries, 1 to 2353\n",
      "Data columns (total 27 columns):\n",
      " #   Column              Non-Null Count  Dtype              \n",
      "---  ------              --------------  -----              \n",
      " 0   tweet_id            1779 non-null   int64              \n",
      " 1   timestamp           1779 non-null   datetime64[ns, UTC]\n",
      " 2   source              1779 non-null   object             \n",
      " 3   text                1779 non-null   object             \n",
      " 4   expanded_urls       1776 non-null   object             \n",
      " 5   rating_numerator    1779 non-null   int32              \n",
      " 6   rating_denominator  1779 non-null   int64              \n",
      " 7   name                1223 non-null   object             \n",
      " 8   display_text_range  1779 non-null   object             \n",
      " 9   is_quote_status     1779 non-null   bool               \n",
      " 10  retweet_count       1779 non-null   int64              \n",
      " 11  favorite_count      1779 non-null   int64              \n",
      " 12  favorited           1779 non-null   bool               \n",
      " 13  p1                  1653 non-null   object             \n",
      " 14  p1_conf             1653 non-null   float64            \n",
      " 15  p1_dog              1653 non-null   object             \n",
      " 16  p2                  1653 non-null   object             \n",
      " 17  p2_conf             1653 non-null   float64            \n",
      " 18  p2_dog              1653 non-null   object             \n",
      " 19  p3                  1653 non-null   object             \n",
      " 20  p3_conf             1653 non-null   float64            \n",
      " 21  p3_dog              1653 non-null   object             \n",
      " 22  Age_stage           1779 non-null   object             \n",
      " 23  ratings             1779 non-null   float64            \n",
      " 24  weekday             1779 non-null   object             \n",
      " 25  breed               1653 non-null   object             \n",
      " 26  confidence          1653 non-null   float64            \n",
      "dtypes: bool(2), datetime64[ns, UTC](1), float64(5), int32(1), int64(4), object(14)\n",
      "memory usage: 357.9+ KB\n"
     ]
    }
   ],
   "source": [
    "def extract_values(col):\n",
    "    if col[0] == True:\n",
    "        return col[1]\n",
    "    elif col[2] == True:\n",
    "        return col[3]\n",
    "    else:\n",
    "        return col[4]\n",
    "\n",
    "df_clean[\"breed\"] = df_clean[[\"p1_dog\", \"p1\", \"p2_dog\", \"p2\", \"p3\"]].apply(extract_values, axis = 1)\n",
    "\n",
    "df_clean[\"confidence\"] = df_clean[[\"p1_dog\", \"p1_conf\", \"p2_dog\", \"p2_conf\", \"p3_conf\"]].apply(extract_values, axis = 1)\n",
    "\n",
    "df_clean.info()"
   ]
  },
  {
   "cell_type": "code",
   "execution_count": 54,
   "id": "01f59f62",
   "metadata": {},
   "outputs": [],
   "source": [
    "# removing underscore from breed names\n",
    "\n",
    "df_clean[\"breed\"] = df_clean[\"breed\"].str.replace(\"_\", \" \")"
   ]
  },
  {
   "cell_type": "code",
   "execution_count": null,
   "id": "a295a30d",
   "metadata": {},
   "outputs": [],
   "source": []
  },
  {
   "cell_type": "code",
   "execution_count": 55,
   "id": "4715cd3e",
   "metadata": {},
   "outputs": [],
   "source": [
    "# dropping columns not needed\n",
    "\n",
    "df_clean.drop(columns = [\"rating_denominator\", \"rating_numerator\", \"is_quote_status\" ], inplace = True)"
   ]
  },
  {
   "cell_type": "code",
   "execution_count": 56,
   "id": "a8263087",
   "metadata": {},
   "outputs": [],
   "source": [
    "# dropping breed and prediction columns\n",
    "\n",
    "df_clean.drop(columns = [\"p1\", \"p1_dog\", \"p1_conf\", \"p2\", \"p2_dog\", \"p2_conf\", \"p3\",\n",
    "                         \"p3_dog\", \"p3_conf\", \"expanded_urls\"], inplace = True)"
   ]
  },
  {
   "cell_type": "markdown",
   "id": "2f6fb718",
   "metadata": {},
   "source": [
    "**Test**"
   ]
  },
  {
   "cell_type": "code",
   "execution_count": 57,
   "id": "ee05115f",
   "metadata": {
    "scrolled": false
   },
   "outputs": [
    {
     "name": "stdout",
     "output_type": "stream",
     "text": [
      "<class 'pandas.core.frame.DataFrame'>\n",
      "Int64Index: 1779 entries, 1 to 2353\n",
      "Data columns (total 14 columns):\n",
      " #   Column              Non-Null Count  Dtype              \n",
      "---  ------              --------------  -----              \n",
      " 0   tweet_id            1779 non-null   int64              \n",
      " 1   timestamp           1779 non-null   datetime64[ns, UTC]\n",
      " 2   source              1779 non-null   object             \n",
      " 3   text                1779 non-null   object             \n",
      " 4   name                1223 non-null   object             \n",
      " 5   display_text_range  1779 non-null   object             \n",
      " 6   retweet_count       1779 non-null   int64              \n",
      " 7   favorite_count      1779 non-null   int64              \n",
      " 8   favorited           1779 non-null   bool               \n",
      " 9   Age_stage           1779 non-null   object             \n",
      " 10  ratings             1779 non-null   float64            \n",
      " 11  weekday             1779 non-null   object             \n",
      " 12  breed               1653 non-null   object             \n",
      " 13  confidence          1653 non-null   float64            \n",
      "dtypes: bool(1), datetime64[ns, UTC](1), float64(2), int64(3), object(7)\n",
      "memory usage: 196.3+ KB\n"
     ]
    }
   ],
   "source": [
    "df_clean.info()"
   ]
  },
  {
   "cell_type": "code",
   "execution_count": 58,
   "id": "5d0e9485",
   "metadata": {
    "scrolled": false
   },
   "outputs": [
    {
     "data": {
      "text/plain": [
       "array(['Chihuahua', 'Labrador retriever', 'basset',\n",
       "       'Chesapeake Bay retriever', 'Appenzeller', 'Pomeranian',\n",
       "       'Irish terrier', 'Pembroke', 'Samoyed', 'French bulldog',\n",
       "       'golden retriever', 'whippet', 'Siberian husky',\n",
       "       'Mexican hairless', 'kuvasz', 'pug', 'Blenheim spaniel', nan,\n",
       "       'malamute', 'Italian greyhound', 'chow', 'German shepherd',\n",
       "       'Doberman', 'Eskimo dog', 'Weimaraner', 'Saluki',\n",
       "       'miniature pinscher', 'German short-haired pointer',\n",
       "       'English springer', 'vizsla', 'bloodhound', 'Bernese mountain dog',\n",
       "       'West Highland white terrier', 'cocker spaniel',\n",
       "       'flat-coated retriever', 'Cardigan', 'Newfoundland',\n",
       "       'Shetland sheepdog', 'komondor', 'kelpie',\n",
       "       'Greater Swiss Mountain dog', 'Border collie', 'bull mastiff',\n",
       "       'Staffordshire bullterrier', 'Australian terrier',\n",
       "       'Bouvier des Flandres', 'Bedlington terrier', 'Boston bull',\n",
       "       'black-and-tan coonhound', 'Great Dane', 'standard poodle',\n",
       "       'Yorkshire terrier', 'schipperke', 'Airedale',\n",
       "       'American Staffordshire terrier', 'giant schnauzer',\n",
       "       'Dandie Dinmont', 'Irish water spaniel', 'Afghan hound',\n",
       "       'Brittany spaniel', 'Norwich terrier', 'Leonberg',\n",
       "       'Border terrier', 'Great Pyrenees', 'Norwegian elkhound',\n",
       "       'toy poodle', 'borzoi', 'Rottweiler',\n",
       "       'soft-coated wheaten terrier', 'Rhodesian ridgeback', 'boxer',\n",
       "       'Pekinese', 'Old English sheepdog', 'briard', 'collie',\n",
       "       'English setter', 'cairn', 'Lakeland terrier', 'malinois',\n",
       "       'Irish setter', 'Gordon setter', 'Welsh springer spaniel',\n",
       "       'miniature schnauzer', 'curly-coated retriever', 'Tibetan mastiff',\n",
       "       'dalmatian', 'miniature poodle', 'beagle', 'toy terrier',\n",
       "       'Norfolk terrier', 'wire-haired fox terrier', 'Saint Bernard',\n",
       "       'Walker hound', 'silky terrier', 'papillon', 'basenji', 'keeshond',\n",
       "       'redbone', 'Sussex spaniel', 'bluetick', 'Shih-Tzu',\n",
       "       'Tibetan terrier', 'Maltese dog', 'Lhasa', 'Ibizan hound',\n",
       "       'groenendael', 'Scottish deerhound', 'Scotch terrier',\n",
       "       'EntleBucher', 'Japanese spaniel', 'standard schnauzer',\n",
       "       'Brabancon griffon', 'Irish wolfhound'], dtype=object)"
      ]
     },
     "execution_count": 58,
     "metadata": {},
     "output_type": "execute_result"
    }
   ],
   "source": [
    "df_clean[\"breed\"].unique()"
   ]
  },
  {
   "cell_type": "markdown",
   "id": "f68d8c81",
   "metadata": {},
   "source": [
    "**Text Range**"
   ]
  },
  {
   "cell_type": "markdown",
   "id": "b5f37990",
   "metadata": {},
   "source": [
    "**Define:** The length of the text will be extracted from the display text range column. This length of text will be used to create text_range column the contain category of text length."
   ]
  },
  {
   "cell_type": "markdown",
   "id": "a510dee9",
   "metadata": {},
   "source": [
    "**Code**"
   ]
  },
  {
   "cell_type": "code",
   "execution_count": 59,
   "id": "99f4789f",
   "metadata": {},
   "outputs": [],
   "source": [
    "# extracting text length\n",
    "\n",
    "df_clean[\"display_text_range\"] = df_clean[\"display_text_range\"].str[1]"
   ]
  },
  {
   "cell_type": "code",
   "execution_count": 60,
   "id": "b76854d9",
   "metadata": {},
   "outputs": [],
   "source": [
    "# creating text range \n",
    "\n",
    "binss = [10, 92, 115, 136, 165]\n",
    "labelss = [\"Small\", \"Medium\", \"Large\", \"Extra Large\"]\n",
    "\n",
    "df_clean[\"text_range\"] = pd.cut(df_clean[\"display_text_range\"], bins = binss, labels = labelss)"
   ]
  },
  {
   "cell_type": "markdown",
   "id": "32008ed1",
   "metadata": {},
   "source": [
    "**Test**"
   ]
  },
  {
   "cell_type": "code",
   "execution_count": 61,
   "id": "f485b307",
   "metadata": {
    "scrolled": true
   },
   "outputs": [
    {
     "data": {
      "text/plain": [
       "count    1779.000000\n",
       "mean      109.703204\n",
       "std        26.620181\n",
       "min        25.000000\n",
       "25%        92.000000\n",
       "50%       114.000000\n",
       "75%       135.000000\n",
       "max       148.000000\n",
       "Name: display_text_range, dtype: float64"
      ]
     },
     "execution_count": 61,
     "metadata": {},
     "output_type": "execute_result"
    }
   ],
   "source": [
    "df_clean[\"display_text_range\"].describe()"
   ]
  },
  {
   "cell_type": "code",
   "execution_count": 62,
   "id": "b0a3b7d0",
   "metadata": {
    "scrolled": true
   },
   "outputs": [
    {
     "data": {
      "text/plain": [
       "Medium         488\n",
       "Small          457\n",
       "Large          430\n",
       "Extra Large    404\n",
       "Name: text_range, dtype: int64"
      ]
     },
     "execution_count": 62,
     "metadata": {},
     "output_type": "execute_result"
    }
   ],
   "source": [
    "df_clean[\"text_range\"].value_counts()"
   ]
  },
  {
   "cell_type": "code",
   "execution_count": 63,
   "id": "127e5433",
   "metadata": {
    "scrolled": true
   },
   "outputs": [
    {
     "name": "stdout",
     "output_type": "stream",
     "text": [
      "<class 'pandas.core.frame.DataFrame'>\n",
      "Int64Index: 1779 entries, 1 to 2353\n",
      "Data columns (total 15 columns):\n",
      " #   Column              Non-Null Count  Dtype              \n",
      "---  ------              --------------  -----              \n",
      " 0   tweet_id            1779 non-null   int64              \n",
      " 1   timestamp           1779 non-null   datetime64[ns, UTC]\n",
      " 2   source              1779 non-null   object             \n",
      " 3   text                1779 non-null   object             \n",
      " 4   name                1223 non-null   object             \n",
      " 5   display_text_range  1779 non-null   int64              \n",
      " 6   retweet_count       1779 non-null   int64              \n",
      " 7   favorite_count      1779 non-null   int64              \n",
      " 8   favorited           1779 non-null   bool               \n",
      " 9   Age_stage           1779 non-null   object             \n",
      " 10  ratings             1779 non-null   float64            \n",
      " 11  weekday             1779 non-null   object             \n",
      " 12  breed               1653 non-null   object             \n",
      " 13  confidence          1653 non-null   float64            \n",
      " 14  text_range          1779 non-null   category           \n",
      "dtypes: bool(1), category(1), datetime64[ns, UTC](1), float64(2), int64(4), object(6)\n",
      "memory usage: 198.3+ KB\n"
     ]
    }
   ],
   "source": [
    "df_clean.info()"
   ]
  },
  {
   "cell_type": "code",
   "execution_count": 64,
   "id": "b2d608b5",
   "metadata": {},
   "outputs": [],
   "source": [
    "df_clean.to_csv(\"twitter_archive_master.csv\", index = False)"
   ]
  },
  {
   "cell_type": "markdown",
   "id": "1ab22f0c",
   "metadata": {},
   "source": [
    "## Exploratory Data Analysis <a class= \"anchor\" id= \"Exploratory_Analysis\"></a>"
   ]
  },
  {
   "cell_type": "code",
   "execution_count": 65,
   "id": "0cd11291",
   "metadata": {
    "scrolled": true
   },
   "outputs": [
    {
     "name": "stdout",
     "output_type": "stream",
     "text": [
      "<class 'pandas.core.frame.DataFrame'>\n",
      "RangeIndex: 1779 entries, 0 to 1778\n",
      "Data columns (total 15 columns):\n",
      " #   Column              Non-Null Count  Dtype  \n",
      "---  ------              --------------  -----  \n",
      " 0   tweet_id            1779 non-null   int64  \n",
      " 1   timestamp           1779 non-null   object \n",
      " 2   source              1779 non-null   object \n",
      " 3   text                1779 non-null   object \n",
      " 4   name                1223 non-null   object \n",
      " 5   display_text_range  1779 non-null   int64  \n",
      " 6   retweet_count       1779 non-null   int64  \n",
      " 7   favorite_count      1779 non-null   int64  \n",
      " 8   favorited           1779 non-null   bool   \n",
      " 9   Age_stage           289 non-null    object \n",
      " 10  ratings             1779 non-null   float64\n",
      " 11  weekday             1779 non-null   object \n",
      " 12  breed               1653 non-null   object \n",
      " 13  confidence          1653 non-null   float64\n",
      " 14  text_range          1779 non-null   object \n",
      "dtypes: bool(1), float64(2), int64(4), object(8)\n",
      "memory usage: 196.4+ KB\n"
     ]
    }
   ],
   "source": [
    "dog_df = pd.read_csv(\"twitter_archive_master.csv\")\n",
    "dog_df.info()"
   ]
  },
  {
   "cell_type": "code",
   "execution_count": 66,
   "id": "feac8b78",
   "metadata": {
    "scrolled": false
   },
   "outputs": [
    {
     "data": {
      "text/html": [
       "<div>\n",
       "<style scoped>\n",
       "    .dataframe tbody tr th:only-of-type {\n",
       "        vertical-align: middle;\n",
       "    }\n",
       "\n",
       "    .dataframe tbody tr th {\n",
       "        vertical-align: top;\n",
       "    }\n",
       "\n",
       "    .dataframe thead th {\n",
       "        text-align: right;\n",
       "    }\n",
       "</style>\n",
       "<table border=\"1\" class=\"dataframe\">\n",
       "  <thead>\n",
       "    <tr style=\"text-align: right;\">\n",
       "      <th></th>\n",
       "      <th>tweet_id</th>\n",
       "      <th>timestamp</th>\n",
       "      <th>source</th>\n",
       "      <th>text</th>\n",
       "      <th>name</th>\n",
       "      <th>display_text_range</th>\n",
       "      <th>retweet_count</th>\n",
       "      <th>favorite_count</th>\n",
       "      <th>favorited</th>\n",
       "      <th>Age_stage</th>\n",
       "      <th>ratings</th>\n",
       "      <th>weekday</th>\n",
       "      <th>breed</th>\n",
       "      <th>confidence</th>\n",
       "      <th>text_range</th>\n",
       "    </tr>\n",
       "  </thead>\n",
       "  <tbody>\n",
       "    <tr>\n",
       "      <th>0</th>\n",
       "      <td>892177421306343426</td>\n",
       "      <td>2017-08-01 00:17:27+00:00</td>\n",
       "      <td>Iphone</td>\n",
       "      <td>This is Tilly. She's just checking pup on you....</td>\n",
       "      <td>Tilly</td>\n",
       "      <td>138</td>\n",
       "      <td>6514</td>\n",
       "      <td>33819</td>\n",
       "      <td>False</td>\n",
       "      <td>NaN</td>\n",
       "      <td>1.3</td>\n",
       "      <td>Tuesday</td>\n",
       "      <td>Chihuahua</td>\n",
       "      <td>0.323581</td>\n",
       "      <td>Extra Large</td>\n",
       "    </tr>\n",
       "    <tr>\n",
       "      <th>1</th>\n",
       "      <td>891815181378084864</td>\n",
       "      <td>2017-07-31 00:18:03+00:00</td>\n",
       "      <td>Iphone</td>\n",
       "      <td>This is Archie. He is a rare Norwegian Pouncin...</td>\n",
       "      <td>Archie</td>\n",
       "      <td>121</td>\n",
       "      <td>4328</td>\n",
       "      <td>25461</td>\n",
       "      <td>False</td>\n",
       "      <td>NaN</td>\n",
       "      <td>1.2</td>\n",
       "      <td>Monday</td>\n",
       "      <td>Chihuahua</td>\n",
       "      <td>0.716012</td>\n",
       "      <td>Large</td>\n",
       "    </tr>\n",
       "    <tr>\n",
       "      <th>2</th>\n",
       "      <td>891689557279858688</td>\n",
       "      <td>2017-07-30 15:58:51+00:00</td>\n",
       "      <td>Iphone</td>\n",
       "      <td>This is Darla. She commenced a snooze mid meal...</td>\n",
       "      <td>Darla</td>\n",
       "      <td>79</td>\n",
       "      <td>8964</td>\n",
       "      <td>42908</td>\n",
       "      <td>False</td>\n",
       "      <td>NaN</td>\n",
       "      <td>1.3</td>\n",
       "      <td>Sunday</td>\n",
       "      <td>Labrador retriever</td>\n",
       "      <td>0.168086</td>\n",
       "      <td>Small</td>\n",
       "    </tr>\n",
       "    <tr>\n",
       "      <th>3</th>\n",
       "      <td>891327558926688256</td>\n",
       "      <td>2017-07-29 16:00:24+00:00</td>\n",
       "      <td>Iphone</td>\n",
       "      <td>This is Franklin. He would like you to stop ca...</td>\n",
       "      <td>Franklin</td>\n",
       "      <td>138</td>\n",
       "      <td>9774</td>\n",
       "      <td>41048</td>\n",
       "      <td>False</td>\n",
       "      <td>NaN</td>\n",
       "      <td>1.2</td>\n",
       "      <td>Saturday</td>\n",
       "      <td>basset</td>\n",
       "      <td>0.555712</td>\n",
       "      <td>Extra Large</td>\n",
       "    </tr>\n",
       "    <tr>\n",
       "      <th>4</th>\n",
       "      <td>891087950875897856</td>\n",
       "      <td>2017-07-29 00:08:17+00:00</td>\n",
       "      <td>Iphone</td>\n",
       "      <td>Here we have a majestic great white breaching ...</td>\n",
       "      <td>NaN</td>\n",
       "      <td>138</td>\n",
       "      <td>3261</td>\n",
       "      <td>20562</td>\n",
       "      <td>False</td>\n",
       "      <td>NaN</td>\n",
       "      <td>1.3</td>\n",
       "      <td>Saturday</td>\n",
       "      <td>Chesapeake Bay retriever</td>\n",
       "      <td>0.425595</td>\n",
       "      <td>Extra Large</td>\n",
       "    </tr>\n",
       "  </tbody>\n",
       "</table>\n",
       "</div>"
      ],
      "text/plain": [
       "             tweet_id                  timestamp  source  \\\n",
       "0  892177421306343426  2017-08-01 00:17:27+00:00  Iphone   \n",
       "1  891815181378084864  2017-07-31 00:18:03+00:00  Iphone   \n",
       "2  891689557279858688  2017-07-30 15:58:51+00:00  Iphone   \n",
       "3  891327558926688256  2017-07-29 16:00:24+00:00  Iphone   \n",
       "4  891087950875897856  2017-07-29 00:08:17+00:00  Iphone   \n",
       "\n",
       "                                                text      name  \\\n",
       "0  This is Tilly. She's just checking pup on you....     Tilly   \n",
       "1  This is Archie. He is a rare Norwegian Pouncin...    Archie   \n",
       "2  This is Darla. She commenced a snooze mid meal...     Darla   \n",
       "3  This is Franklin. He would like you to stop ca...  Franklin   \n",
       "4  Here we have a majestic great white breaching ...       NaN   \n",
       "\n",
       "   display_text_range  retweet_count  favorite_count  favorited Age_stage  \\\n",
       "0                 138           6514           33819      False       NaN   \n",
       "1                 121           4328           25461      False       NaN   \n",
       "2                  79           8964           42908      False       NaN   \n",
       "3                 138           9774           41048      False       NaN   \n",
       "4                 138           3261           20562      False       NaN   \n",
       "\n",
       "   ratings   weekday                     breed  confidence   text_range  \n",
       "0      1.3   Tuesday                 Chihuahua    0.323581  Extra Large  \n",
       "1      1.2    Monday                 Chihuahua    0.716012        Large  \n",
       "2      1.3    Sunday        Labrador retriever    0.168086        Small  \n",
       "3      1.2  Saturday                    basset    0.555712  Extra Large  \n",
       "4      1.3  Saturday  Chesapeake Bay retriever    0.425595  Extra Large  "
      ]
     },
     "execution_count": 66,
     "metadata": {},
     "output_type": "execute_result"
    }
   ],
   "source": [
    "dog_df.head()"
   ]
  },
  {
   "cell_type": "code",
   "execution_count": 67,
   "id": "3ec8451d",
   "metadata": {},
   "outputs": [
    {
     "data": {
      "text/html": [
       "<div>\n",
       "<style scoped>\n",
       "    .dataframe tbody tr th:only-of-type {\n",
       "        vertical-align: middle;\n",
       "    }\n",
       "\n",
       "    .dataframe tbody tr th {\n",
       "        vertical-align: top;\n",
       "    }\n",
       "\n",
       "    .dataframe thead th {\n",
       "        text-align: right;\n",
       "    }\n",
       "</style>\n",
       "<table border=\"1\" class=\"dataframe\">\n",
       "  <thead>\n",
       "    <tr style=\"text-align: right;\">\n",
       "      <th></th>\n",
       "      <th>tweet_id</th>\n",
       "      <th>display_text_range</th>\n",
       "      <th>retweet_count</th>\n",
       "      <th>favorite_count</th>\n",
       "      <th>ratings</th>\n",
       "      <th>confidence</th>\n",
       "    </tr>\n",
       "  </thead>\n",
       "  <tbody>\n",
       "    <tr>\n",
       "      <th>count</th>\n",
       "      <td>1.779000e+03</td>\n",
       "      <td>1779.000000</td>\n",
       "      <td>1779.000000</td>\n",
       "      <td>1779.000000</td>\n",
       "      <td>1779.000000</td>\n",
       "      <td>1653.000000</td>\n",
       "    </tr>\n",
       "    <tr>\n",
       "      <th>mean</th>\n",
       "      <td>7.398976e+17</td>\n",
       "      <td>109.703204</td>\n",
       "      <td>2905.625632</td>\n",
       "      <td>9327.401349</td>\n",
       "      <td>1.086903</td>\n",
       "      <td>0.550600</td>\n",
       "    </tr>\n",
       "    <tr>\n",
       "      <th>std</th>\n",
       "      <td>6.758785e+16</td>\n",
       "      <td>26.620181</td>\n",
       "      <td>4849.592391</td>\n",
       "      <td>12571.730922</td>\n",
       "      <td>0.179809</td>\n",
       "      <td>0.299159</td>\n",
       "    </tr>\n",
       "    <tr>\n",
       "      <th>min</th>\n",
       "      <td>6.660209e+17</td>\n",
       "      <td>25.000000</td>\n",
       "      <td>16.000000</td>\n",
       "      <td>81.000000</td>\n",
       "      <td>0.000000</td>\n",
       "      <td>0.000010</td>\n",
       "    </tr>\n",
       "    <tr>\n",
       "      <th>25%</th>\n",
       "      <td>6.785448e+17</td>\n",
       "      <td>92.000000</td>\n",
       "      <td>665.500000</td>\n",
       "      <td>2234.000000</td>\n",
       "      <td>1.000000</td>\n",
       "      <td>0.304175</td>\n",
       "    </tr>\n",
       "    <tr>\n",
       "      <th>50%</th>\n",
       "      <td>7.150098e+17</td>\n",
       "      <td>114.000000</td>\n",
       "      <td>1489.000000</td>\n",
       "      <td>4503.000000</td>\n",
       "      <td>1.100000</td>\n",
       "      <td>0.550796</td>\n",
       "    </tr>\n",
       "    <tr>\n",
       "      <th>75%</th>\n",
       "      <td>7.930021e+17</td>\n",
       "      <td>135.000000</td>\n",
       "      <td>3323.000000</td>\n",
       "      <td>11767.500000</td>\n",
       "      <td>1.200000</td>\n",
       "      <td>0.822048</td>\n",
       "    </tr>\n",
       "    <tr>\n",
       "      <th>max</th>\n",
       "      <td>8.921774e+17</td>\n",
       "      <td>148.000000</td>\n",
       "      <td>79515.000000</td>\n",
       "      <td>132810.000000</td>\n",
       "      <td>1.400000</td>\n",
       "      <td>0.999956</td>\n",
       "    </tr>\n",
       "  </tbody>\n",
       "</table>\n",
       "</div>"
      ],
      "text/plain": [
       "           tweet_id  display_text_range  retweet_count  favorite_count  \\\n",
       "count  1.779000e+03         1779.000000    1779.000000     1779.000000   \n",
       "mean   7.398976e+17          109.703204    2905.625632     9327.401349   \n",
       "std    6.758785e+16           26.620181    4849.592391    12571.730922   \n",
       "min    6.660209e+17           25.000000      16.000000       81.000000   \n",
       "25%    6.785448e+17           92.000000     665.500000     2234.000000   \n",
       "50%    7.150098e+17          114.000000    1489.000000     4503.000000   \n",
       "75%    7.930021e+17          135.000000    3323.000000    11767.500000   \n",
       "max    8.921774e+17          148.000000   79515.000000   132810.000000   \n",
       "\n",
       "           ratings   confidence  \n",
       "count  1779.000000  1653.000000  \n",
       "mean      1.086903     0.550600  \n",
       "std       0.179809     0.299159  \n",
       "min       0.000000     0.000010  \n",
       "25%       1.000000     0.304175  \n",
       "50%       1.100000     0.550796  \n",
       "75%       1.200000     0.822048  \n",
       "max       1.400000     0.999956  "
      ]
     },
     "execution_count": 67,
     "metadata": {},
     "output_type": "execute_result"
    }
   ],
   "source": [
    "dog_df.describe()"
   ]
  },
  {
   "cell_type": "markdown",
   "id": "787bcba9",
   "metadata": {},
   "source": [
    "### Analysis Question <a class= \"anchor\" id= \"Analysis_Question\"></a>\n",
    "\n",
    "* How does the characteristics of the dog influence its ratings, retweets counts and favourite counts.These characteristics include breed, age group.\n",
    "\n",
    "* How does these features of a the tweet affect the engagements on a tweet.These features include Timestamp, Text Range, Source.\n",
    "\n"
   ]
  },
  {
   "cell_type": "markdown",
   "id": "9df29cdd",
   "metadata": {},
   "source": [
    "### Research Question 1<a class= \"anchor\" id= \"Research_1\"></a>"
   ]
  },
  {
   "cell_type": "code",
   "execution_count": 68,
   "id": "755c4ac7",
   "metadata": {
    "scrolled": true
   },
   "outputs": [
    {
     "data": {
      "text/plain": [
       "golden retriever      154\n",
       "Labrador retriever    103\n",
       "Pembroke               94\n",
       "Chihuahua              90\n",
       "pug                    62\n",
       "toy poodle             50\n",
       "chow                   48\n",
       "Samoyed                42\n",
       "Pomeranian             40\n",
       "malamute               33\n",
       "Name: breed, dtype: int64"
      ]
     },
     "execution_count": 68,
     "metadata": {},
     "output_type": "execute_result"
    }
   ],
   "source": [
    "# getting the popular breeds ie most common\n",
    "\n",
    "pop_breed = dog_df[\"breed\"].value_counts()[:10]\n",
    "\n",
    "pop_breed"
   ]
  },
  {
   "cell_type": "markdown",
   "id": "9ceab4d1",
   "metadata": {},
   "source": [
    "Golden Retriever  and Labrador retriever are the most popular dog breeds."
   ]
  },
  {
   "cell_type": "code",
   "execution_count": 69,
   "id": "7ed6aff9",
   "metadata": {
    "scrolled": true
   },
   "outputs": [
    {
     "data": {
      "image/png": "[encoded data removed]",
      "text/plain": [
       "<Figure size 432x288 with 1 Axes>"
      ]
     },
     "metadata": {
      "needs_background": "light"
     },
     "output_type": "display_data"
    }
   ],
   "source": [
    "pop_breed.plot(kind = \"barh\")\n",
    "plt.xlabel(\"Count\")\n",
    "\n",
    "txt=\"Figure 1. Top 10 Popular dogs.\"\n",
    "plt.figtext(0.05,-0.09, txt, wrap= True, horizontalalignment=\"center\", fontsize= 15);"
   ]
  },
  {
   "cell_type": "code",
   "execution_count": 70,
   "id": "098ee8b3",
   "metadata": {
    "scrolled": true
   },
   "outputs": [
    {
     "data": {
      "text/plain": [
       "black-and-tan coonhound    2\n",
       "Sussex spaniel             2\n",
       "Appenzeller                2\n",
       "Japanese spaniel           1\n",
       "standard schnauzer         1\n",
       "Bouvier des Flandres       1\n",
       "EntleBucher                1\n",
       "Scotch terrier             1\n",
       "silky terrier              1\n",
       "Irish wolfhound            1\n",
       "Name: breed, dtype: int64"
      ]
     },
     "execution_count": 70,
     "metadata": {},
     "output_type": "execute_result"
    }
   ],
   "source": [
    "# getting the least popular dogs\n",
    "\n",
    "least_breed = dog_df[\"breed\"].value_counts()[-10:]\n",
    "least_breed"
   ]
  },
  {
   "cell_type": "code",
   "execution_count": 71,
   "id": "0d4b476d",
   "metadata": {},
   "outputs": [
    {
     "data": {
      "text/html": [
       "<div>\n",
       "<style scoped>\n",
       "    .dataframe tbody tr th:only-of-type {\n",
       "        vertical-align: middle;\n",
       "    }\n",
       "\n",
       "    .dataframe tbody tr th {\n",
       "        vertical-align: top;\n",
       "    }\n",
       "\n",
       "    .dataframe thead th {\n",
       "        text-align: right;\n",
       "    }\n",
       "</style>\n",
       "<table border=\"1\" class=\"dataframe\">\n",
       "  <thead>\n",
       "    <tr style=\"text-align: right;\">\n",
       "      <th></th>\n",
       "      <th>ratings</th>\n",
       "      <th>favorite_count</th>\n",
       "      <th>retweet_count</th>\n",
       "    </tr>\n",
       "    <tr>\n",
       "      <th>breed</th>\n",
       "      <th></th>\n",
       "      <th></th>\n",
       "      <th></th>\n",
       "    </tr>\n",
       "  </thead>\n",
       "  <tbody>\n",
       "    <tr>\n",
       "      <th>Afghan hound</th>\n",
       "      <td>0.966667</td>\n",
       "      <td>17326.666667</td>\n",
       "      <td>5976.000000</td>\n",
       "    </tr>\n",
       "    <tr>\n",
       "      <th>Airedale</th>\n",
       "      <td>0.983333</td>\n",
       "      <td>5280.833333</td>\n",
       "      <td>1393.750000</td>\n",
       "    </tr>\n",
       "    <tr>\n",
       "      <th>American Staffordshire terrier</th>\n",
       "      <td>1.031250</td>\n",
       "      <td>9380.187500</td>\n",
       "      <td>2310.812500</td>\n",
       "    </tr>\n",
       "    <tr>\n",
       "      <th>Appenzeller</th>\n",
       "      <td>1.100000</td>\n",
       "      <td>7317.500000</td>\n",
       "      <td>1458.000000</td>\n",
       "    </tr>\n",
       "    <tr>\n",
       "      <th>Australian terrier</th>\n",
       "      <td>1.150000</td>\n",
       "      <td>11127.500000</td>\n",
       "      <td>3078.500000</td>\n",
       "    </tr>\n",
       "    <tr>\n",
       "      <th>Bedlington terrier</th>\n",
       "      <td>1.033333</td>\n",
       "      <td>21153.166667</td>\n",
       "      <td>7510.166667</td>\n",
       "    </tr>\n",
       "    <tr>\n",
       "      <th>Bernese mountain dog</th>\n",
       "      <td>1.127273</td>\n",
       "      <td>7284.000000</td>\n",
       "      <td>1616.545455</td>\n",
       "    </tr>\n",
       "    <tr>\n",
       "      <th>Blenheim spaniel</th>\n",
       "      <td>1.110000</td>\n",
       "      <td>9280.900000</td>\n",
       "      <td>2583.300000</td>\n",
       "    </tr>\n",
       "    <tr>\n",
       "      <th>Border collie</th>\n",
       "      <td>1.058333</td>\n",
       "      <td>8933.083333</td>\n",
       "      <td>2207.750000</td>\n",
       "    </tr>\n",
       "    <tr>\n",
       "      <th>Border terrier</th>\n",
       "      <td>1.214286</td>\n",
       "      <td>13578.000000</td>\n",
       "      <td>3377.142857</td>\n",
       "    </tr>\n",
       "  </tbody>\n",
       "</table>\n",
       "</div>"
      ],
      "text/plain": [
       "                                 ratings  favorite_count  retweet_count\n",
       "breed                                                                  \n",
       "Afghan hound                    0.966667    17326.666667    5976.000000\n",
       "Airedale                        0.983333     5280.833333    1393.750000\n",
       "American Staffordshire terrier  1.031250     9380.187500    2310.812500\n",
       "Appenzeller                     1.100000     7317.500000    1458.000000\n",
       "Australian terrier              1.150000    11127.500000    3078.500000\n",
       "Bedlington terrier              1.033333    21153.166667    7510.166667\n",
       "Bernese mountain dog            1.127273     7284.000000    1616.545455\n",
       "Blenheim spaniel                1.110000     9280.900000    2583.300000\n",
       "Border collie                   1.058333     8933.083333    2207.750000\n",
       "Border terrier                  1.214286    13578.000000    3377.142857"
      ]
     },
     "execution_count": 71,
     "metadata": {},
     "output_type": "execute_result"
    }
   ],
   "source": [
    "# Average ratings of ratings favorite_count and retweet_count \n",
    "\n",
    "avg_breed = dog_df.groupby(\"breed\")[\"ratings\",\"favorite_count\",\"retweet_count\"].agg(\"mean\")\n",
    "avg_breed[:10]"
   ]
  },
  {
   "cell_type": "code",
   "execution_count": 72,
   "id": "87428d14",
   "metadata": {
    "scrolled": true
   },
   "outputs": [
    {
     "data": {
      "text/markdown": [
       "**Top Breeds based on Average ratings**"
      ],
      "text/plain": [
       "<IPython.core.display.Markdown object>"
      ]
     },
     "metadata": {},
     "output_type": "display_data"
    },
    {
     "name": "stdout",
     "output_type": "stream",
     "text": [
      "                       ratings  favorite_count  retweet_count\n",
      "breed                                                        \n",
      "Bouvier des Flandres  1.300000    18032.000000    4479.000000\n",
      "Saluki                1.250000    24060.000000    5133.750000\n",
      "briard                1.233333     9511.666667    2966.666667\n",
      "Tibetan mastiff       1.225000    12173.500000    4193.000000\n",
      "Border terrier        1.214286    13578.000000    3377.142857\n",
      "silky terrier         1.200000     7317.000000    1891.000000\n",
      "standard schnauzer    1.200000     2046.000000     928.000000\n",
      "Gordon setter         1.175000     5529.250000    2495.500000\n",
      "Irish setter          1.175000    10581.750000    3374.000000\n",
      "Samoyed               1.169048    13902.523810    4843.952381\n",
      " \n"
     ]
    },
    {
     "data": {
      "text/markdown": [
       "**Top Breeds based on Average favorite_count**"
      ],
      "text/plain": [
       "<IPython.core.display.Markdown object>"
      ]
     },
     "metadata": {},
     "output_type": "display_data"
    },
    {
     "name": "stdout",
     "output_type": "stream",
     "text": [
      "                          ratings  favorite_count  retweet_count\n",
      "breed                                                           \n",
      "Saluki                   1.250000    24060.000000    5133.750000\n",
      "Bedlington terrier       1.033333    21153.166667    7510.166667\n",
      "French bulldog           1.119355    18416.806452    5039.677419\n",
      "Bouvier des Flandres     1.300000    18032.000000    4479.000000\n",
      "Afghan hound             0.966667    17326.666667    5976.000000\n",
      "black-and-tan coonhound  1.050000    17012.000000    4164.500000\n",
      "flat-coated retriever    1.087500    16791.625000    4520.250000\n",
      "Irish water spaniel      1.133333    16400.000000    4500.666667\n",
      "Leonberg                 1.133333    14934.333333    3863.666667\n",
      "English springer         1.050000    14138.300000    5401.600000\n",
      " \n"
     ]
    },
    {
     "data": {
      "text/markdown": [
       "**Top Breeds based on Average retweet_count**"
      ],
      "text/plain": [
       "<IPython.core.display.Markdown object>"
      ]
     },
     "metadata": {},
     "output_type": "display_data"
    },
    {
     "name": "stdout",
     "output_type": "stream",
     "text": [
      "                     ratings  favorite_count  retweet_count\n",
      "breed                                                      \n",
      "Bedlington terrier  1.033333    21153.166667    7510.166667\n",
      "Afghan hound        0.966667    17326.666667    5976.000000\n",
      "standard poodle     1.072727    13912.818182    5508.909091\n",
      "English springer    1.050000    14138.300000    5401.600000\n",
      "Saluki              1.250000    24060.000000    5133.750000\n",
      "French bulldog      1.119355    18416.806452    5039.677419\n",
      "cocker spaniel      1.133333    13580.400000    4858.100000\n",
      "Samoyed             1.169048    13902.523810    4843.952381\n",
      "whippet             1.018182    12911.454545    4840.272727\n",
      "Great Pyrenees      1.142857    13117.571429    4784.285714\n",
      " \n"
     ]
    }
   ],
   "source": [
    "\n",
    "# for display\n",
    "def printmd(string):\n",
    "    display(Markdown(string))\n",
    "    \n",
    "    \n",
    "\n",
    "for col in avg_breed.columns:\n",
    "    printmd(\"**Top Breeds based on Average {}**\".format(col))\n",
    "    print(avg_breed.sort_values(by = col, ascending = False)[:10])\n",
    "    print(\" \")\n",
    "    "
   ]
  },
  {
   "cell_type": "markdown",
   "id": "ac6ed440",
   "metadata": {},
   "source": [
    "Based on the analysis above, the top 10 popular breeds are not the breeds with top ratings, retweet count and favorite count.\n",
    "Bouvier des flandres has the highest ratings, Saluki has the highest favorite count and Standard poodle has the highest retweet count. The top ratings, retweet count and favorite count show no relationship with breed popularity as breeds like Black-and-tan coonhound which falls under the least popular breeds has a high favorite count  ranking 5th. "
   ]
  },
  {
   "cell_type": "code",
   "execution_count": 73,
   "id": "f03b85d8",
   "metadata": {},
   "outputs": [
    {
     "data": {
      "image/png": "[encoded data removed]",
      "text/plain": [
       "<Figure size 432x288 with 1 Axes>"
      ]
     },
     "metadata": {
      "needs_background": "light"
     },
     "output_type": "display_data"
    }
   ],
   "source": [
    "avg_breed.sort_values(by = \"ratings\", ascending =False)[:10].plot(kind = \"barh\")\n",
    "\n",
    "plt.xlabel(\"Count\")\n",
    "plt.title(\"Average Favorite and Retweet Count Of Breeds With Top Ratings\",fontsize=\"xx-large\")\n",
    "\n",
    "txt=\"Figure 2. Average Favorited and Retweet Counts of Dog Breeds Having the Top 10 Ratings.\"\n",
    "plt.figtext(0.05,-0.09, txt, wrap= True, horizontalalignment=\"center\", fontsize= 15);"
   ]
  },
  {
   "cell_type": "markdown",
   "id": "bb74d1cc",
   "metadata": {},
   "source": [
    "Figure 2 shows that favorite count and retweet count have no relationship with ratings in terms of breeds. Breeds with high ratings do not necessarily have high retweet and favorite count."
   ]
  },
  {
   "cell_type": "code",
   "execution_count": 74,
   "id": "3d339378",
   "metadata": {},
   "outputs": [
    {
     "data": {
      "text/plain": [
       "pupper          185\n",
       "doggo            63\n",
       "puppo            22\n",
       "floofer           9\n",
       "pupperdoggo       8\n",
       "doggopuppo        1\n",
       "doggofloofer      1\n",
       "Name: Age_stage, dtype: int64"
      ]
     },
     "execution_count": 74,
     "metadata": {},
     "output_type": "execute_result"
    }
   ],
   "source": [
    "dog_df[\"Age_stage\"].value_counts()"
   ]
  },
  {
   "cell_type": "code",
   "execution_count": 75,
   "id": "61c325b4",
   "metadata": {
    "scrolled": true
   },
   "outputs": [
    {
     "data": {
      "text/html": [
       "<div>\n",
       "<style scoped>\n",
       "    .dataframe tbody tr th:only-of-type {\n",
       "        vertical-align: middle;\n",
       "    }\n",
       "\n",
       "    .dataframe tbody tr th {\n",
       "        vertical-align: top;\n",
       "    }\n",
       "\n",
       "    .dataframe thead th {\n",
       "        text-align: right;\n",
       "    }\n",
       "</style>\n",
       "<table border=\"1\" class=\"dataframe\">\n",
       "  <thead>\n",
       "    <tr style=\"text-align: right;\">\n",
       "      <th></th>\n",
       "      <th>ratings</th>\n",
       "      <th>favorite_count</th>\n",
       "      <th>retweet_count</th>\n",
       "    </tr>\n",
       "    <tr>\n",
       "      <th>Age_stage</th>\n",
       "      <th></th>\n",
       "      <th></th>\n",
       "      <th></th>\n",
       "    </tr>\n",
       "  </thead>\n",
       "  <tbody>\n",
       "    <tr>\n",
       "      <th>doggo</th>\n",
       "      <td>74.8</td>\n",
       "      <td>1128711</td>\n",
       "      <td>408260</td>\n",
       "    </tr>\n",
       "    <tr>\n",
       "      <th>doggofloofer</th>\n",
       "      <td>1.1</td>\n",
       "      <td>17169</td>\n",
       "      <td>3433</td>\n",
       "    </tr>\n",
       "    <tr>\n",
       "      <th>doggopuppo</th>\n",
       "      <td>1.3</td>\n",
       "      <td>47844</td>\n",
       "      <td>19196</td>\n",
       "    </tr>\n",
       "    <tr>\n",
       "      <th>floofer</th>\n",
       "      <td>10.7</td>\n",
       "      <td>99580</td>\n",
       "      <td>37403</td>\n",
       "    </tr>\n",
       "    <tr>\n",
       "      <th>pupper</th>\n",
       "      <td>202.7</td>\n",
       "      <td>1396544</td>\n",
       "      <td>473777</td>\n",
       "    </tr>\n",
       "    <tr>\n",
       "      <th>pupperdoggo</th>\n",
       "      <td>9.0</td>\n",
       "      <td>104997</td>\n",
       "      <td>35578</td>\n",
       "    </tr>\n",
       "    <tr>\n",
       "      <th>puppo</th>\n",
       "      <td>26.3</td>\n",
       "      <td>473127</td>\n",
       "      <td>143265</td>\n",
       "    </tr>\n",
       "  </tbody>\n",
       "</table>\n",
       "</div>"
      ],
      "text/plain": [
       "              ratings  favorite_count  retweet_count\n",
       "Age_stage                                           \n",
       "doggo            74.8         1128711         408260\n",
       "doggofloofer      1.1           17169           3433\n",
       "doggopuppo        1.3           47844          19196\n",
       "floofer          10.7           99580          37403\n",
       "pupper          202.7         1396544         473777\n",
       "pupperdoggo       9.0          104997          35578\n",
       "puppo            26.3          473127         143265"
      ]
     },
     "execution_count": 75,
     "metadata": {},
     "output_type": "execute_result"
    }
   ],
   "source": [
    "sum_age = dog_df.groupby(\"Age_stage\")[\"ratings\",\"favorite_count\",\"retweet_count\"].agg(\"sum\")\n",
    "sum_age"
   ]
  },
  {
   "cell_type": "code",
   "execution_count": 76,
   "id": "f026a451",
   "metadata": {
    "scrolled": true
   },
   "outputs": [
    {
     "data": {
      "text/html": [
       "<div>\n",
       "<style scoped>\n",
       "    .dataframe tbody tr th:only-of-type {\n",
       "        vertical-align: middle;\n",
       "    }\n",
       "\n",
       "    .dataframe tbody tr th {\n",
       "        vertical-align: top;\n",
       "    }\n",
       "\n",
       "    .dataframe thead th {\n",
       "        text-align: right;\n",
       "    }\n",
       "</style>\n",
       "<table border=\"1\" class=\"dataframe\">\n",
       "  <thead>\n",
       "    <tr style=\"text-align: right;\">\n",
       "      <th></th>\n",
       "      <th>ratings</th>\n",
       "      <th>favorite_count</th>\n",
       "      <th>retweet_count</th>\n",
       "    </tr>\n",
       "    <tr>\n",
       "      <th>Age_stage</th>\n",
       "      <th></th>\n",
       "      <th></th>\n",
       "      <th></th>\n",
       "    </tr>\n",
       "  </thead>\n",
       "  <tbody>\n",
       "    <tr>\n",
       "      <th>doggo</th>\n",
       "      <td>1.187302</td>\n",
       "      <td>17916.047619</td>\n",
       "      <td>6480.317460</td>\n",
       "    </tr>\n",
       "    <tr>\n",
       "      <th>doggofloofer</th>\n",
       "      <td>1.100000</td>\n",
       "      <td>17169.000000</td>\n",
       "      <td>3433.000000</td>\n",
       "    </tr>\n",
       "    <tr>\n",
       "      <th>doggopuppo</th>\n",
       "      <td>1.300000</td>\n",
       "      <td>47844.000000</td>\n",
       "      <td>19196.000000</td>\n",
       "    </tr>\n",
       "    <tr>\n",
       "      <th>floofer</th>\n",
       "      <td>1.188889</td>\n",
       "      <td>11064.444444</td>\n",
       "      <td>4155.888889</td>\n",
       "    </tr>\n",
       "    <tr>\n",
       "      <th>pupper</th>\n",
       "      <td>1.095676</td>\n",
       "      <td>7548.886486</td>\n",
       "      <td>2560.956757</td>\n",
       "    </tr>\n",
       "    <tr>\n",
       "      <th>pupperdoggo</th>\n",
       "      <td>1.125000</td>\n",
       "      <td>13124.625000</td>\n",
       "      <td>4447.250000</td>\n",
       "    </tr>\n",
       "    <tr>\n",
       "      <th>puppo</th>\n",
       "      <td>1.195455</td>\n",
       "      <td>21505.772727</td>\n",
       "      <td>6512.045455</td>\n",
       "    </tr>\n",
       "  </tbody>\n",
       "</table>\n",
       "</div>"
      ],
      "text/plain": [
       "               ratings  favorite_count  retweet_count\n",
       "Age_stage                                            \n",
       "doggo         1.187302    17916.047619    6480.317460\n",
       "doggofloofer  1.100000    17169.000000    3433.000000\n",
       "doggopuppo    1.300000    47844.000000   19196.000000\n",
       "floofer       1.188889    11064.444444    4155.888889\n",
       "pupper        1.095676     7548.886486    2560.956757\n",
       "pupperdoggo   1.125000    13124.625000    4447.250000\n",
       "puppo         1.195455    21505.772727    6512.045455"
      ]
     },
     "execution_count": 76,
     "metadata": {},
     "output_type": "execute_result"
    }
   ],
   "source": [
    "avg_age = dog_df.groupby(\"Age_stage\")[\"ratings\",\"favorite_count\",\"retweet_count\"].agg(\"mean\")\n",
    "avg_age"
   ]
  },
  {
   "cell_type": "code",
   "execution_count": 77,
   "id": "f9de55f9",
   "metadata": {
    "scrolled": true
   },
   "outputs": [
    {
     "data": {
      "text/markdown": [
       "**Top Age Stage based on Average ratings**"
      ],
      "text/plain": [
       "<IPython.core.display.Markdown object>"
      ]
     },
     "metadata": {},
     "output_type": "display_data"
    },
    {
     "name": "stdout",
     "output_type": "stream",
     "text": [
      "               ratings  favorite_count  retweet_count\n",
      "Age_stage                                            \n",
      "doggopuppo    1.300000    47844.000000   19196.000000\n",
      "puppo         1.195455    21505.772727    6512.045455\n",
      "floofer       1.188889    11064.444444    4155.888889\n",
      "doggo         1.187302    17916.047619    6480.317460\n",
      "pupperdoggo   1.125000    13124.625000    4447.250000\n",
      "doggofloofer  1.100000    17169.000000    3433.000000\n",
      "pupper        1.095676     7548.886486    2560.956757\n",
      " \n"
     ]
    },
    {
     "data": {
      "text/markdown": [
       "**Top Age Stage based on Average favorite_count**"
      ],
      "text/plain": [
       "<IPython.core.display.Markdown object>"
      ]
     },
     "metadata": {},
     "output_type": "display_data"
    },
    {
     "name": "stdout",
     "output_type": "stream",
     "text": [
      "               ratings  favorite_count  retweet_count\n",
      "Age_stage                                            \n",
      "doggopuppo    1.300000    47844.000000   19196.000000\n",
      "puppo         1.195455    21505.772727    6512.045455\n",
      "doggo         1.187302    17916.047619    6480.317460\n",
      "doggofloofer  1.100000    17169.000000    3433.000000\n",
      "pupperdoggo   1.125000    13124.625000    4447.250000\n",
      "floofer       1.188889    11064.444444    4155.888889\n",
      "pupper        1.095676     7548.886486    2560.956757\n",
      " \n"
     ]
    },
    {
     "data": {
      "text/markdown": [
       "**Top Age Stage based on Average retweet_count**"
      ],
      "text/plain": [
       "<IPython.core.display.Markdown object>"
      ]
     },
     "metadata": {},
     "output_type": "display_data"
    },
    {
     "name": "stdout",
     "output_type": "stream",
     "text": [
      "               ratings  favorite_count  retweet_count\n",
      "Age_stage                                            \n",
      "doggopuppo    1.300000    47844.000000   19196.000000\n",
      "puppo         1.195455    21505.772727    6512.045455\n",
      "doggo         1.187302    17916.047619    6480.317460\n",
      "pupperdoggo   1.125000    13124.625000    4447.250000\n",
      "floofer       1.188889    11064.444444    4155.888889\n",
      "doggofloofer  1.100000    17169.000000    3433.000000\n",
      "pupper        1.095676     7548.886486    2560.956757\n",
      " \n"
     ]
    }
   ],
   "source": [
    "for col in avg_age.columns:\n",
    "    printmd(\"**Top Age Stage based on Average {}**\".format(col))\n",
    "    print(avg_age.sort_values(by = col, ascending = False))\n",
    "    print(\" \")"
   ]
  },
  {
   "cell_type": "markdown",
   "id": "b1db64e5",
   "metadata": {},
   "source": [
    "Pupper which means a dog of younger age have less ratings and retweet and favorite count while the older dogs doggo have high ratings and favorite and retweet count."
   ]
  },
  {
   "cell_type": "code",
   "execution_count": 78,
   "id": "c1ffdb67",
   "metadata": {},
   "outputs": [
    {
     "data": {
      "image/png": "[encoded data removed]",
      "text/plain": [
       "<Figure size 432x288 with 1 Axes>"
      ]
     },
     "metadata": {
      "needs_background": "light"
     },
     "output_type": "display_data"
    }
   ],
   "source": [
    "avg_age.sort_values(by = \"ratings\", ascending =False)[:11].plot(kind = \"barh\")\n",
    "\n",
    "plt.xlabel(\"Count\")\n",
    "plt.title(\"Average Favorite and Retweet Count With Top Ratings\",fontsize=\"xx-large\")\n",
    "\n",
    "txt=\"Figure 3. Average Favorited and Retweet Counts of Dog Age With Top Ratings.\"\n",
    "plt.figtext(0.05,-0.09, txt, wrap= True, horizontalalignment=\"center\", fontsize= 15);"
   ]
  },
  {
   "cell_type": "markdown",
   "id": "a7d1d134",
   "metadata": {},
   "source": [
    "### Research Question 2<a class= \"anchor\" id= \"Research_2\"></a>"
   ]
  },
  {
   "cell_type": "code",
   "execution_count": 79,
   "id": "99571447",
   "metadata": {},
   "outputs": [
    {
     "data": {
      "text/plain": [
       "Iphone       1654\n",
       "Vine           91\n",
       "Web            25\n",
       "TweetDeck       9\n",
       "Name: source, dtype: int64"
      ]
     },
     "execution_count": 79,
     "metadata": {},
     "output_type": "execute_result"
    }
   ],
   "source": [
    "dog_df[\"source\"].value_counts()"
   ]
  },
  {
   "cell_type": "code",
   "execution_count": 80,
   "id": "d20292a7",
   "metadata": {},
   "outputs": [
    {
     "data": {
      "text/html": [
       "<div>\n",
       "<style scoped>\n",
       "    .dataframe tbody tr th:only-of-type {\n",
       "        vertical-align: middle;\n",
       "    }\n",
       "\n",
       "    .dataframe tbody tr th {\n",
       "        vertical-align: top;\n",
       "    }\n",
       "\n",
       "    .dataframe thead th {\n",
       "        text-align: right;\n",
       "    }\n",
       "</style>\n",
       "<table border=\"1\" class=\"dataframe\">\n",
       "  <thead>\n",
       "    <tr style=\"text-align: right;\">\n",
       "      <th></th>\n",
       "      <th>ratings</th>\n",
       "      <th>favorite_count</th>\n",
       "      <th>retweet_count</th>\n",
       "    </tr>\n",
       "    <tr>\n",
       "      <th>source</th>\n",
       "      <th></th>\n",
       "      <th></th>\n",
       "      <th></th>\n",
       "    </tr>\n",
       "  </thead>\n",
       "  <tbody>\n",
       "    <tr>\n",
       "      <th>Iphone</th>\n",
       "      <td>1.084643</td>\n",
       "      <td>9483.525393</td>\n",
       "      <td>2868.211608</td>\n",
       "    </tr>\n",
       "    <tr>\n",
       "      <th>TweetDeck</th>\n",
       "      <td>1.100000</td>\n",
       "      <td>4911.222222</td>\n",
       "      <td>1753.777778</td>\n",
       "    </tr>\n",
       "    <tr>\n",
       "      <th>Vine</th>\n",
       "      <td>1.139560</td>\n",
       "      <td>7969.527473</td>\n",
       "      <td>3854.417582</td>\n",
       "    </tr>\n",
       "    <tr>\n",
       "      <th>Web</th>\n",
       "      <td>1.040000</td>\n",
       "      <td>5530.720000</td>\n",
       "      <td>2342.000000</td>\n",
       "    </tr>\n",
       "  </tbody>\n",
       "</table>\n",
       "</div>"
      ],
      "text/plain": [
       "            ratings  favorite_count  retweet_count\n",
       "source                                            \n",
       "Iphone     1.084643     9483.525393    2868.211608\n",
       "TweetDeck  1.100000     4911.222222    1753.777778\n",
       "Vine       1.139560     7969.527473    3854.417582\n",
       "Web        1.040000     5530.720000    2342.000000"
      ]
     },
     "execution_count": 80,
     "metadata": {},
     "output_type": "execute_result"
    }
   ],
   "source": [
    "dog_df.groupby(\"source\")[\"ratings\", \"favorite_count\", \"retweet_count\"].mean()"
   ]
  },
  {
   "cell_type": "code",
   "execution_count": 81,
   "id": "8b4cb862",
   "metadata": {},
   "outputs": [
    {
     "data": {
      "text/plain": [
       "Medium         488\n",
       "Small          457\n",
       "Large          430\n",
       "Extra Large    404\n",
       "Name: text_range, dtype: int64"
      ]
     },
     "execution_count": 81,
     "metadata": {},
     "output_type": "execute_result"
    }
   ],
   "source": [
    "dog_df[\"text_range\"].value_counts()"
   ]
  },
  {
   "cell_type": "code",
   "execution_count": 82,
   "id": "21af7cab",
   "metadata": {},
   "outputs": [
    {
     "data": {
      "image/png": "[encoded data removed]",
      "text/plain": [
       "<Figure size 936x360 with 1 Axes>"
      ]
     },
     "metadata": {},
     "output_type": "display_data"
    }
   ],
   "source": [
    "fig1, ax1 =plt.subplots(figsize=(13,5))\n",
    "labels= [\"Iphone\",\"Vine\",\"Web\",\"TweetDeck\"]\n",
    "explode=(0.2,0.1,0.03,0.1)\n",
    "ax1.pie(dog_df[\"source\"].value_counts(), explode=explode,labels= labels, autopct= \"%1.1f%%\")\n",
    "ax1.axis(\"equal\")\n",
    "\n",
    "txt=\"Figure 4. Pie Chart For Source.\"\n",
    "plt.figtext(0.05,-0.09, txt, wrap= True, horizontalalignment=\"center\", fontsize= 15);"
   ]
  },
  {
   "cell_type": "code",
   "execution_count": 83,
   "id": "e1a3028e",
   "metadata": {
    "scrolled": false
   },
   "outputs": [
    {
     "data": {
      "text/html": [
       "<div>\n",
       "<style scoped>\n",
       "    .dataframe tbody tr th:only-of-type {\n",
       "        vertical-align: middle;\n",
       "    }\n",
       "\n",
       "    .dataframe tbody tr th {\n",
       "        vertical-align: top;\n",
       "    }\n",
       "\n",
       "    .dataframe thead th {\n",
       "        text-align: right;\n",
       "    }\n",
       "</style>\n",
       "<table border=\"1\" class=\"dataframe\">\n",
       "  <thead>\n",
       "    <tr style=\"text-align: right;\">\n",
       "      <th></th>\n",
       "      <th>ratings</th>\n",
       "      <th>favorite_count</th>\n",
       "      <th>retweet_count</th>\n",
       "    </tr>\n",
       "    <tr>\n",
       "      <th>text_range</th>\n",
       "      <th></th>\n",
       "      <th></th>\n",
       "      <th></th>\n",
       "    </tr>\n",
       "  </thead>\n",
       "  <tbody>\n",
       "    <tr>\n",
       "      <th>Extra Large</th>\n",
       "      <td>1.015842</td>\n",
       "      <td>6155.599010</td>\n",
       "      <td>1813.074257</td>\n",
       "    </tr>\n",
       "    <tr>\n",
       "      <th>Large</th>\n",
       "      <td>1.071860</td>\n",
       "      <td>9382.334884</td>\n",
       "      <td>2607.279070</td>\n",
       "    </tr>\n",
       "    <tr>\n",
       "      <th>Medium</th>\n",
       "      <td>1.115574</td>\n",
       "      <td>11340.477459</td>\n",
       "      <td>3465.194672</td>\n",
       "    </tr>\n",
       "    <tr>\n",
       "      <th>Small</th>\n",
       "      <td>1.133260</td>\n",
       "      <td>9930.039387</td>\n",
       "      <td>3554.663020</td>\n",
       "    </tr>\n",
       "  </tbody>\n",
       "</table>\n",
       "</div>"
      ],
      "text/plain": [
       "              ratings  favorite_count  retweet_count\n",
       "text_range                                          \n",
       "Extra Large  1.015842     6155.599010    1813.074257\n",
       "Large        1.071860     9382.334884    2607.279070\n",
       "Medium       1.115574    11340.477459    3465.194672\n",
       "Small        1.133260     9930.039387    3554.663020"
      ]
     },
     "execution_count": 83,
     "metadata": {},
     "output_type": "execute_result"
    }
   ],
   "source": [
    "dog_df.groupby(\"text_range\")[\"ratings\", \"favorite_count\", \"retweet_count\"].mean()"
   ]
  },
  {
   "cell_type": "markdown",
   "id": "12c49039",
   "metadata": {},
   "source": [
    "Small text length get the highest ratings, while medium text length get the highest favorite and retweet count."
   ]
  },
  {
   "cell_type": "code",
   "execution_count": 84,
   "id": "4628b025",
   "metadata": {},
   "outputs": [
    {
     "data": {
      "text/plain": [
       "Monday       304\n",
       "Tuesday      261\n",
       "Thursday     257\n",
       "Wednesday    253\n",
       "Friday       249\n",
       "Sunday       230\n",
       "Saturday     225\n",
       "Name: weekday, dtype: int64"
      ]
     },
     "execution_count": 84,
     "metadata": {},
     "output_type": "execute_result"
    }
   ],
   "source": [
    "dog_df[\"weekday\"].value_counts()"
   ]
  },
  {
   "cell_type": "code",
   "execution_count": 85,
   "id": "7db9f2a2",
   "metadata": {},
   "outputs": [
    {
     "data": {
      "text/html": [
       "<div>\n",
       "<style scoped>\n",
       "    .dataframe tbody tr th:only-of-type {\n",
       "        vertical-align: middle;\n",
       "    }\n",
       "\n",
       "    .dataframe tbody tr th {\n",
       "        vertical-align: top;\n",
       "    }\n",
       "\n",
       "    .dataframe thead th {\n",
       "        text-align: right;\n",
       "    }\n",
       "</style>\n",
       "<table border=\"1\" class=\"dataframe\">\n",
       "  <thead>\n",
       "    <tr style=\"text-align: right;\">\n",
       "      <th></th>\n",
       "      <th>favorite_count</th>\n",
       "      <th>retweet_count</th>\n",
       "    </tr>\n",
       "    <tr>\n",
       "      <th>weekday</th>\n",
       "      <th></th>\n",
       "      <th></th>\n",
       "    </tr>\n",
       "  </thead>\n",
       "  <tbody>\n",
       "    <tr>\n",
       "      <th>Friday</th>\n",
       "      <td>9089.220884</td>\n",
       "      <td>2830.004016</td>\n",
       "    </tr>\n",
       "    <tr>\n",
       "      <th>Monday</th>\n",
       "      <td>9120.391447</td>\n",
       "      <td>2844.398026</td>\n",
       "    </tr>\n",
       "    <tr>\n",
       "      <th>Saturday</th>\n",
       "      <td>9374.435556</td>\n",
       "      <td>3080.351111</td>\n",
       "    </tr>\n",
       "    <tr>\n",
       "      <th>Sunday</th>\n",
       "      <td>9094.826087</td>\n",
       "      <td>2755.734783</td>\n",
       "    </tr>\n",
       "    <tr>\n",
       "      <th>Thursday</th>\n",
       "      <td>8650.439689</td>\n",
       "      <td>2623.887160</td>\n",
       "    </tr>\n",
       "    <tr>\n",
       "      <th>Tuesday</th>\n",
       "      <td>9479.659004</td>\n",
       "      <td>2860.647510</td>\n",
       "    </tr>\n",
       "    <tr>\n",
       "      <th>Wednesday</th>\n",
       "      <td>10510.750988</td>\n",
       "      <td>3367.090909</td>\n",
       "    </tr>\n",
       "  </tbody>\n",
       "</table>\n",
       "</div>"
      ],
      "text/plain": [
       "           favorite_count  retweet_count\n",
       "weekday                                 \n",
       "Friday        9089.220884    2830.004016\n",
       "Monday        9120.391447    2844.398026\n",
       "Saturday      9374.435556    3080.351111\n",
       "Sunday        9094.826087    2755.734783\n",
       "Thursday      8650.439689    2623.887160\n",
       "Tuesday       9479.659004    2860.647510\n",
       "Wednesday    10510.750988    3367.090909"
      ]
     },
     "execution_count": 85,
     "metadata": {},
     "output_type": "execute_result"
    }
   ],
   "source": [
    "avg_weekday = dog_df.groupby(\"weekday\")[ \"favorite_count\", \"retweet_count\"].mean()\n",
    "avg_weekday"
   ]
  },
  {
   "cell_type": "code",
   "execution_count": 86,
   "id": "60c6428e",
   "metadata": {
    "scrolled": true
   },
   "outputs": [
    {
     "data": {
      "image/png": "[encoded data removed]",
      "text/plain": [
       "<Figure size 432x288 with 1 Axes>"
      ]
     },
     "metadata": {
      "needs_background": "light"
     },
     "output_type": "display_data"
    }
   ],
   "source": [
    "avg_weekday.plot()\n",
    "plt.ylabel(\"Count\")\n",
    "plt.title(\"Weekday Against Average Favorite and Retweet count\")\n",
    "\n",
    "\n",
    "txt=\"Figure 5. Average Favorite and Retweet count on days of the Week.\"\n",
    "plt.figtext(0.05,-0.09, txt, wrap= True, horizontalalignment=\"center\", fontsize= 15);"
   ]
  },
  {
   "cell_type": "markdown",
   "id": "15be7ae5",
   "metadata": {},
   "source": [
    "Wednesday have the highest favorite and retweet count, Tuesday although has the second highest retweet count has an average favorite count."
   ]
  },
  {
   "cell_type": "code",
   "execution_count": 87,
   "id": "5914342f",
   "metadata": {},
   "outputs": [
    {
     "data": {
      "text/plain": [
       "weekday    source   \n",
       "Friday     Iphone       225\n",
       "           Vine           9\n",
       "           Web           15\n",
       "Monday     Iphone       276\n",
       "           TweetDeck      6\n",
       "           Vine          20\n",
       "           Web            2\n",
       "Saturday   Iphone       213\n",
       "           Vine          12\n",
       "Sunday     Iphone       220\n",
       "           Vine           9\n",
       "           Web            1\n",
       "Thursday   Iphone       237\n",
       "           TweetDeck      3\n",
       "           Vine          13\n",
       "           Web            4\n",
       "Tuesday    Iphone       244\n",
       "           Vine          15\n",
       "           Web            2\n",
       "Wednesday  Iphone       239\n",
       "           Vine          13\n",
       "           Web            1\n",
       "Name: source, dtype: int64"
      ]
     },
     "execution_count": 87,
     "metadata": {},
     "output_type": "execute_result"
    }
   ],
   "source": [
    "source_day = dog_df.groupby([\"weekday\", \"source\"])[\"source\"].count()\n",
    "source_day"
   ]
  },
  {
   "cell_type": "code",
   "execution_count": 88,
   "id": "67935799",
   "metadata": {},
   "outputs": [
    {
     "data": {
      "text/plain": [
       "weekday    text_range \n",
       "Friday     Extra Large    66\n",
       "           Large          57\n",
       "           Medium         74\n",
       "           Small          52\n",
       "Monday     Extra Large    66\n",
       "           Large          77\n",
       "           Medium         75\n",
       "           Small          86\n",
       "Saturday   Extra Large    47\n",
       "           Large          57\n",
       "           Medium         62\n",
       "           Small          59\n",
       "Sunday     Extra Large    58\n",
       "           Large          49\n",
       "           Medium         69\n",
       "           Small          54\n",
       "Thursday   Extra Large    55\n",
       "           Large          56\n",
       "           Medium         69\n",
       "           Small          77\n",
       "Tuesday    Extra Large    57\n",
       "           Large          64\n",
       "           Medium         65\n",
       "           Small          75\n",
       "Wednesday  Extra Large    55\n",
       "           Large          70\n",
       "           Medium         74\n",
       "           Small          54\n",
       "Name: text_range, dtype: int64"
      ]
     },
     "execution_count": 88,
     "metadata": {},
     "output_type": "execute_result"
    }
   ],
   "source": [
    "text_day = dog_df.groupby([\"weekday\", \"text_range\"])[\"text_range\"].count()\n",
    "text_day"
   ]
  },
  {
   "cell_type": "markdown",
   "id": "48efc5e6",
   "metadata": {},
   "source": [
    "## Conclusion <a class= \"anchor\" id= \"Conclusion\"></a>\n",
    "\n",
    "This project included the wrangling and analysis of WeRateDogs tweet. The aim of the analysis was to explore the dataset to provide insights on determining factor for good metrics ie high ratings, retweet and favorite counts. High ratings, retweet and favorite count showed no relation with dog breed popularity and with  each other. Tweets with high ratings did not necessarily have high retweet and favorite count. \n",
    "Tweet with small text length and tweets made on Wednesday had the good metrics."
   ]
  },
  {
   "cell_type": "markdown",
   "id": "94ac1c9c",
   "metadata": {},
   "source": [
    "#### Limitations <a class=\"anchor\" id=\"limitation\"></a>\n",
    "\n",
    "* No statistical test was done to back up this findings.\n"
   ]
  }
 ],
 "metadata": {
  "kernelspec": {
   "display_name": "Python 3 (ipykernel)",
   "language": "python",
   "name": "python3"
  },
  "language_info": {
   "codemirror_mode": {
    "name": "ipython",
    "version": 3
   },
   "file_extension": ".py",
   "mimetype": "text/x-python",
   "name": "python",
   "nbconvert_exporter": "python",
   "pygments_lexer": "ipython3",
   "version": "3.9.7"
  }
 },
 "nbformat": 4,
 "nbformat_minor": 5
}
